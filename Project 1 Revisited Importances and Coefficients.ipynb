{
 "cells": [
  {
   "cell_type": "markdown",
   "id": "7642c3d1",
   "metadata": {},
   "source": [
    "## Task"
   ]
  },
  {
   "cell_type": "markdown",
   "id": "b5a58a2b",
   "metadata": {},
   "source": [
    "For this assignment, you will revisit your first project to predict supermarket sales. You will apply what you've learned this week to explain how your models made their predictions."
   ]
  },
  {
   "cell_type": "markdown",
   "id": "b0cd04c8",
   "metadata": {},
   "source": [
    "## Project 1 Revisited - Part 1: Remaking, Saving, and Explaining Your Models"
   ]
  },
  {
   "cell_type": "markdown",
   "id": "33ccb22a",
   "metadata": {},
   "source": [
    "For this part of the project, you will be producing a new version of your final project notebook using the updated tools in sklearn v1.2. You should continue to save your work in the same repo as your original Project 1. \n",
    "\n",
    "- Create a new notebook called \"Project 1 - Revisited.ipynb\" in your original project repo.\n",
    "  - You may either make a copy of your prior notebook that you will modify, or you can start a new blank notebook and copy over the code from your old notebook (as needed).\n",
    "- Remake your X_train and X_test as DataFrames with the feature names extracted from the column transformer instead of combining your preprocessor and model into 1 pipeline."
   ]
  },
  {
   "cell_type": "markdown",
   "id": "a32be965",
   "metadata": {},
   "source": [
    "#### LinearRegression\n",
    "\n",
    "- Fit and evaluate your LinearRegresion model using your dataframe X_train and X_test data.\n",
    "- Extract and visualize the coefficients that your model determined.\n",
    "  - Select the top 3 most impactful features and interpret their coefficients in plain English.\n",
    "- Save your figure as a .png file inside your repository (you will need this for the final piece of this assignment - Update Your README)."
   ]
  },
  {
   "cell_type": "markdown",
   "id": "bb267215",
   "metadata": {},
   "source": [
    "#### Tree-Based Model\n",
    "\n",
    "- Fit and evaluate your tree-based regression model using your dataframe X_train and X_test data.\n",
    "- Extract and visualize the feature importances that your model determined.\n",
    " - Identify the top 5 most important features.\n",
    "- Save your figure as a .png file inside your repository  (you will need this for the final piece of this assignment - Update Your README)."
   ]
  },
  {
   "cell_type": "markdown",
   "id": "90c3df9f",
   "metadata": {},
   "source": [
    "#### Serialize Your Best Models with Joblib\n",
    "\n",
    "- Once you've finished updating and explaining your models, you must save the following key: value pairs as a dictionary in a joblib file named \"best-models.joblib\":\n",
    "- \"preprocessor\": your preprocessing  column transformer\n",
    "- \"X_train\": your training features.\n",
    "- \"X_test\": your test features.\n",
    "- \"y_train\": your training target.\n",
    "- \"y_test\": your test target.\n",
    "- \"LinearRegression\": your best linear regression\n",
    "- Your tree-based model's class name: your best tree-based model.\n",
    " - e.g. \"RandomForestRegressor\"/\"DecisionTreeRegressor\"\n",
    "- Save your joblib file inside your repository. (You will work with these models again in the next core assignment.)"
   ]
  },
  {
   "cell_type": "markdown",
   "id": "796fdddd",
   "metadata": {},
   "source": [
    "---"
   ]
  },
  {
   "cell_type": "markdown",
   "id": "2b01499b",
   "metadata": {},
   "source": [
    "## Loading Imports & Data"
   ]
  },
  {
   "cell_type": "code",
   "execution_count": 126,
   "id": "e8d39362",
   "metadata": {},
   "outputs": [],
   "source": [
    "import pandas as pd\n",
    "import numpy as np\n",
    "import matplotlib.pyplot as plt\n",
    "import seaborn as sns\n",
    "\n",
    "## Preprocessing tools\n",
    "from sklearn.model_selection import train_test_split\n",
    "from sklearn.compose import ColumnTransformer, make_column_selector\n",
    "from sklearn.pipeline import make_pipeline\n",
    "from sklearn.preprocessing import OneHotEncoder, StandardScaler\n",
    "from sklearn.impute import SimpleImputer\n",
    "\n",
    "## Models & evaluation metrics\n",
    "from sklearn import metrics\n",
    "from sklearn.linear_model import LinearRegression\n",
    "from sklearn.tree import DecisionTreeRegressor\n",
    "from sklearn.ensemble import RandomForestRegressor\n",
    "\n",
    "from sklearn import set_config\n",
    "\n",
    "\n",
    "import joblib\n",
    "\n",
    "## setting random state for reproducibility\n",
    "SEED = 321\n",
    "np.random.seed(SEED)\n",
    "## Matplotlib \n",
    "fav_style = ('ggplot','tableau-colorblind10')\n",
    "fav_context  ={'context':'notebook', 'font_scale':1.1}\n",
    "plt.style.use(fav_style)\n",
    "sns.set_context(**fav_context)\n",
    "plt.rcParams['savefig.transparent'] = False\n",
    "plt.rcParams['savefig.bbox'] = 'tight'"
   ]
  },
  {
   "cell_type": "code",
   "execution_count": 127,
   "id": "62139357",
   "metadata": {},
   "outputs": [],
   "source": [
    "def evaluate_regression(model, X_train,y_train, X_test, y_test,as_frame=True):\n",
    "  \"\"\"Evaluates a scikit learn regression model using r-squared and RMSE.\n",
    "  Returns the results a DataFrame if as_frame is True (Default).\n",
    "  \"\"\"\n",
    "  ## Training Data\n",
    "  y_pred_train = model.predict(X_train)\n",
    "  r2_train = metrics.r2_score(y_train, y_pred_train)\n",
    "  rmse_train = metrics.mean_squared_error(y_train, y_pred_train,\n",
    "                                          squared=False)\n",
    "  mae_train = metrics.mean_absolute_error(y_train, y_pred_train)\n",
    "\n",
    "\n",
    "  ## Test Data\n",
    "  y_pred_test = model.predict(X_test)\n",
    "  r2_test = metrics.r2_score(y_test, y_pred_test)\n",
    "  rmse_test = metrics.mean_squared_error(y_test, y_pred_test,\n",
    "                                          squared=False)\n",
    "  mae_test = metrics.mean_absolute_error(y_test, y_pred_test)\n",
    "\n",
    "  ## if returning a dataframe:\n",
    "  if as_frame:\n",
    "      df_version =[['Split','R^2','MAE','RMSE']]\n",
    "      df_version.append(['Train',r2_train, mae_train, rmse_train])\n",
    "      df_version.append(['Test',r2_test, mae_test, rmse_test])\n",
    "      df_results = pd.DataFrame(df_version[1:], columns=df_version[0])\n",
    "      df_results = df_results.round(2)\n",
    "\n",
    "\n",
    "      # adapting hide_index for pd version\n",
    "      if pd.__version__ < \"1.4.0\":\n",
    "        display(df_results.style.hide_index().format(precision=2, thousands=','))\n",
    "      else:\n",
    "        display(df_results.style.hide(axis='index').format(precision=2, thousands=','))\n",
    "\n",
    "  ## If not dataframe, just print results.\n",
    "  else:\n",
    "      print(f\"Training Data:\\tR^2 = {r2_train:,.2f}\\tRMSE = {rmse_train:,.2f}\\tMAE = {mae_train:,.2f}\")\n",
    "      print(f\"Test Data:\\tR^2 = {r2_test:,.2f}\\tRMSE = {rmse_test:,.2f}\\tMAE = {mae_test:,.2f}\")"
   ]
  },
  {
   "cell_type": "code",
   "execution_count": 128,
   "id": "609ccfe8",
   "metadata": {},
   "outputs": [
    {
     "name": "stdout",
     "output_type": "stream",
     "text": [
      "<class 'pandas.core.frame.DataFrame'>\n",
      "RangeIndex: 8523 entries, 0 to 8522\n",
      "Data columns (total 12 columns):\n",
      " #   Column                     Non-Null Count  Dtype  \n",
      "---  ------                     --------------  -----  \n",
      " 0   Item_Identifier            8523 non-null   object \n",
      " 1   Item_Weight                7060 non-null   float64\n",
      " 2   Item_Fat_Content           8523 non-null   object \n",
      " 3   Item_Visibility            8523 non-null   float64\n",
      " 4   Item_Type                  8523 non-null   object \n",
      " 5   Item_MRP                   8523 non-null   float64\n",
      " 6   Outlet_Identifier          8523 non-null   object \n",
      " 7   Outlet_Establishment_Year  8523 non-null   int64  \n",
      " 8   Outlet_Size                6113 non-null   object \n",
      " 9   Outlet_Location_Type       8523 non-null   object \n",
      " 10  Outlet_Type                8523 non-null   object \n",
      " 11  Item_Outlet_Sales          8523 non-null   float64\n",
      "dtypes: float64(4), int64(1), object(7)\n",
      "memory usage: 799.2+ KB\n"
     ]
    },
    {
     "data": {
      "text/html": [
       "<div>\n",
       "<style scoped>\n",
       "    .dataframe tbody tr th:only-of-type {\n",
       "        vertical-align: middle;\n",
       "    }\n",
       "\n",
       "    .dataframe tbody tr th {\n",
       "        vertical-align: top;\n",
       "    }\n",
       "\n",
       "    .dataframe thead th {\n",
       "        text-align: right;\n",
       "    }\n",
       "</style>\n",
       "<table border=\"1\" class=\"dataframe\">\n",
       "  <thead>\n",
       "    <tr style=\"text-align: right;\">\n",
       "      <th></th>\n",
       "      <th>Item_Identifier</th>\n",
       "      <th>Item_Weight</th>\n",
       "      <th>Item_Fat_Content</th>\n",
       "      <th>Item_Visibility</th>\n",
       "      <th>Item_Type</th>\n",
       "      <th>Item_MRP</th>\n",
       "      <th>Outlet_Identifier</th>\n",
       "      <th>Outlet_Establishment_Year</th>\n",
       "      <th>Outlet_Size</th>\n",
       "      <th>Outlet_Location_Type</th>\n",
       "      <th>Outlet_Type</th>\n",
       "      <th>Item_Outlet_Sales</th>\n",
       "    </tr>\n",
       "  </thead>\n",
       "  <tbody>\n",
       "    <tr>\n",
       "      <th>0</th>\n",
       "      <td>FDA15</td>\n",
       "      <td>9.3000</td>\n",
       "      <td>Low Fat</td>\n",
       "      <td>0.0160</td>\n",
       "      <td>Dairy</td>\n",
       "      <td>249.8092</td>\n",
       "      <td>OUT049</td>\n",
       "      <td>1999</td>\n",
       "      <td>Medium</td>\n",
       "      <td>Tier 1</td>\n",
       "      <td>Supermarket Type1</td>\n",
       "      <td>3,735.1380</td>\n",
       "    </tr>\n",
       "    <tr>\n",
       "      <th>1</th>\n",
       "      <td>DRC01</td>\n",
       "      <td>5.9200</td>\n",
       "      <td>Regular</td>\n",
       "      <td>0.0193</td>\n",
       "      <td>Soft Drinks</td>\n",
       "      <td>48.2692</td>\n",
       "      <td>OUT018</td>\n",
       "      <td>2009</td>\n",
       "      <td>Medium</td>\n",
       "      <td>Tier 3</td>\n",
       "      <td>Supermarket Type2</td>\n",
       "      <td>443.4228</td>\n",
       "    </tr>\n",
       "    <tr>\n",
       "      <th>2</th>\n",
       "      <td>FDN15</td>\n",
       "      <td>17.5000</td>\n",
       "      <td>Low Fat</td>\n",
       "      <td>0.0168</td>\n",
       "      <td>Meat</td>\n",
       "      <td>141.6180</td>\n",
       "      <td>OUT049</td>\n",
       "      <td>1999</td>\n",
       "      <td>Medium</td>\n",
       "      <td>Tier 1</td>\n",
       "      <td>Supermarket Type1</td>\n",
       "      <td>2,097.2700</td>\n",
       "    </tr>\n",
       "    <tr>\n",
       "      <th>3</th>\n",
       "      <td>FDX07</td>\n",
       "      <td>19.2000</td>\n",
       "      <td>Regular</td>\n",
       "      <td>0.0000</td>\n",
       "      <td>Fruits and Vegetables</td>\n",
       "      <td>182.0950</td>\n",
       "      <td>OUT010</td>\n",
       "      <td>1998</td>\n",
       "      <td>NaN</td>\n",
       "      <td>Tier 3</td>\n",
       "      <td>Grocery Store</td>\n",
       "      <td>732.3800</td>\n",
       "    </tr>\n",
       "    <tr>\n",
       "      <th>4</th>\n",
       "      <td>NCD19</td>\n",
       "      <td>8.9300</td>\n",
       "      <td>Low Fat</td>\n",
       "      <td>0.0000</td>\n",
       "      <td>Household</td>\n",
       "      <td>53.8614</td>\n",
       "      <td>OUT013</td>\n",
       "      <td>1987</td>\n",
       "      <td>High</td>\n",
       "      <td>Tier 3</td>\n",
       "      <td>Supermarket Type1</td>\n",
       "      <td>994.7052</td>\n",
       "    </tr>\n",
       "  </tbody>\n",
       "</table>\n",
       "</div>"
      ],
      "text/plain": [
       "  Item_Identifier  Item_Weight Item_Fat_Content  Item_Visibility  \\\n",
       "0           FDA15       9.3000          Low Fat           0.0160   \n",
       "1           DRC01       5.9200          Regular           0.0193   \n",
       "2           FDN15      17.5000          Low Fat           0.0168   \n",
       "3           FDX07      19.2000          Regular           0.0000   \n",
       "4           NCD19       8.9300          Low Fat           0.0000   \n",
       "\n",
       "               Item_Type  Item_MRP Outlet_Identifier  \\\n",
       "0                  Dairy  249.8092            OUT049   \n",
       "1            Soft Drinks   48.2692            OUT018   \n",
       "2                   Meat  141.6180            OUT049   \n",
       "3  Fruits and Vegetables  182.0950            OUT010   \n",
       "4              Household   53.8614            OUT013   \n",
       "\n",
       "   Outlet_Establishment_Year Outlet_Size Outlet_Location_Type  \\\n",
       "0                       1999      Medium               Tier 1   \n",
       "1                       2009      Medium               Tier 3   \n",
       "2                       1999      Medium               Tier 1   \n",
       "3                       1998         NaN               Tier 3   \n",
       "4                       1987        High               Tier 3   \n",
       "\n",
       "         Outlet_Type  Item_Outlet_Sales  \n",
       "0  Supermarket Type1         3,735.1380  \n",
       "1  Supermarket Type2           443.4228  \n",
       "2  Supermarket Type1         2,097.2700  \n",
       "3      Grocery Store           732.3800  \n",
       "4  Supermarket Type1           994.7052  "
      ]
     },
     "execution_count": 128,
     "metadata": {},
     "output_type": "execute_result"
    }
   ],
   "source": [
    "df = pd.read_csv('https://docs.google.com/spreadsheets/d/e/2PACX-1vQujSPVdp1EfFsngrLgWZZ_VT_I7nuzXs10BqUJV5ai8hFZoUDf3mpA68wj37UFVfS3yvj_QvvO6655/pub?gid=1913766112&single=true&output=csv')\n",
    "df.info()\n",
    "df.head()"
   ]
  },
  {
   "cell_type": "code",
   "execution_count": 129,
   "id": "3d2b7008",
   "metadata": {},
   "outputs": [
    {
     "data": {
      "text/html": [
       "<div>\n",
       "<style scoped>\n",
       "    .dataframe tbody tr th:only-of-type {\n",
       "        vertical-align: middle;\n",
       "    }\n",
       "\n",
       "    .dataframe tbody tr th {\n",
       "        vertical-align: top;\n",
       "    }\n",
       "\n",
       "    .dataframe thead th {\n",
       "        text-align: right;\n",
       "    }\n",
       "</style>\n",
       "<table border=\"1\" class=\"dataframe\">\n",
       "  <thead>\n",
       "    <tr style=\"text-align: right;\">\n",
       "      <th></th>\n",
       "      <th>Item_Identifier</th>\n",
       "      <th>Item_Weight</th>\n",
       "      <th>Item_Fat_Content</th>\n",
       "      <th>Item_Visibility</th>\n",
       "      <th>Item_Type</th>\n",
       "      <th>Item_MRP</th>\n",
       "      <th>Outlet_Identifier</th>\n",
       "      <th>Outlet_Establishment_Year</th>\n",
       "      <th>Outlet_Size</th>\n",
       "      <th>Outlet_Location_Type</th>\n",
       "      <th>Outlet_Type</th>\n",
       "      <th>Item_Outlet_Sales</th>\n",
       "    </tr>\n",
       "  </thead>\n",
       "  <tbody>\n",
       "    <tr>\n",
       "      <th>0</th>\n",
       "      <td>FDA15</td>\n",
       "      <td>9.3000</td>\n",
       "      <td>Low Fat</td>\n",
       "      <td>0.0160</td>\n",
       "      <td>Dairy</td>\n",
       "      <td>249.8092</td>\n",
       "      <td>OUT049</td>\n",
       "      <td>1999</td>\n",
       "      <td>Medium</td>\n",
       "      <td>Tier 1</td>\n",
       "      <td>Supermarket Type1</td>\n",
       "      <td>3,735.1380</td>\n",
       "    </tr>\n",
       "    <tr>\n",
       "      <th>1</th>\n",
       "      <td>DRC01</td>\n",
       "      <td>5.9200</td>\n",
       "      <td>Regular</td>\n",
       "      <td>0.0193</td>\n",
       "      <td>Soft Drinks</td>\n",
       "      <td>48.2692</td>\n",
       "      <td>OUT018</td>\n",
       "      <td>2009</td>\n",
       "      <td>Medium</td>\n",
       "      <td>Tier 3</td>\n",
       "      <td>Supermarket Type2</td>\n",
       "      <td>443.4228</td>\n",
       "    </tr>\n",
       "    <tr>\n",
       "      <th>2</th>\n",
       "      <td>FDN15</td>\n",
       "      <td>17.5000</td>\n",
       "      <td>Low Fat</td>\n",
       "      <td>0.0168</td>\n",
       "      <td>Meat</td>\n",
       "      <td>141.6180</td>\n",
       "      <td>OUT049</td>\n",
       "      <td>1999</td>\n",
       "      <td>Medium</td>\n",
       "      <td>Tier 1</td>\n",
       "      <td>Supermarket Type1</td>\n",
       "      <td>2,097.2700</td>\n",
       "    </tr>\n",
       "    <tr>\n",
       "      <th>3</th>\n",
       "      <td>FDX07</td>\n",
       "      <td>19.2000</td>\n",
       "      <td>Regular</td>\n",
       "      <td>0.0000</td>\n",
       "      <td>Fruits and Vegetables</td>\n",
       "      <td>182.0950</td>\n",
       "      <td>OUT010</td>\n",
       "      <td>1998</td>\n",
       "      <td>NaN</td>\n",
       "      <td>Tier 3</td>\n",
       "      <td>Grocery Store</td>\n",
       "      <td>732.3800</td>\n",
       "    </tr>\n",
       "    <tr>\n",
       "      <th>4</th>\n",
       "      <td>NCD19</td>\n",
       "      <td>8.9300</td>\n",
       "      <td>Low Fat</td>\n",
       "      <td>0.0000</td>\n",
       "      <td>Household</td>\n",
       "      <td>53.8614</td>\n",
       "      <td>OUT013</td>\n",
       "      <td>1987</td>\n",
       "      <td>High</td>\n",
       "      <td>Tier 3</td>\n",
       "      <td>Supermarket Type1</td>\n",
       "      <td>994.7052</td>\n",
       "    </tr>\n",
       "    <tr>\n",
       "      <th>...</th>\n",
       "      <td>...</td>\n",
       "      <td>...</td>\n",
       "      <td>...</td>\n",
       "      <td>...</td>\n",
       "      <td>...</td>\n",
       "      <td>...</td>\n",
       "      <td>...</td>\n",
       "      <td>...</td>\n",
       "      <td>...</td>\n",
       "      <td>...</td>\n",
       "      <td>...</td>\n",
       "      <td>...</td>\n",
       "    </tr>\n",
       "    <tr>\n",
       "      <th>8518</th>\n",
       "      <td>FDF22</td>\n",
       "      <td>6.8650</td>\n",
       "      <td>Low Fat</td>\n",
       "      <td>0.0568</td>\n",
       "      <td>Snack Foods</td>\n",
       "      <td>214.5218</td>\n",
       "      <td>OUT013</td>\n",
       "      <td>1987</td>\n",
       "      <td>High</td>\n",
       "      <td>Tier 3</td>\n",
       "      <td>Supermarket Type1</td>\n",
       "      <td>2,778.3834</td>\n",
       "    </tr>\n",
       "    <tr>\n",
       "      <th>8519</th>\n",
       "      <td>FDS36</td>\n",
       "      <td>8.3800</td>\n",
       "      <td>Regular</td>\n",
       "      <td>0.0470</td>\n",
       "      <td>Baking Goods</td>\n",
       "      <td>108.1570</td>\n",
       "      <td>OUT045</td>\n",
       "      <td>2002</td>\n",
       "      <td>NaN</td>\n",
       "      <td>Tier 2</td>\n",
       "      <td>Supermarket Type1</td>\n",
       "      <td>549.2850</td>\n",
       "    </tr>\n",
       "    <tr>\n",
       "      <th>8520</th>\n",
       "      <td>NCJ29</td>\n",
       "      <td>10.6000</td>\n",
       "      <td>Low Fat</td>\n",
       "      <td>0.0352</td>\n",
       "      <td>Health and Hygiene</td>\n",
       "      <td>85.1224</td>\n",
       "      <td>OUT035</td>\n",
       "      <td>2004</td>\n",
       "      <td>Small</td>\n",
       "      <td>Tier 2</td>\n",
       "      <td>Supermarket Type1</td>\n",
       "      <td>1,193.1136</td>\n",
       "    </tr>\n",
       "    <tr>\n",
       "      <th>8521</th>\n",
       "      <td>FDN46</td>\n",
       "      <td>7.2100</td>\n",
       "      <td>Regular</td>\n",
       "      <td>0.1452</td>\n",
       "      <td>Snack Foods</td>\n",
       "      <td>103.1332</td>\n",
       "      <td>OUT018</td>\n",
       "      <td>2009</td>\n",
       "      <td>Medium</td>\n",
       "      <td>Tier 3</td>\n",
       "      <td>Supermarket Type2</td>\n",
       "      <td>1,845.5976</td>\n",
       "    </tr>\n",
       "    <tr>\n",
       "      <th>8522</th>\n",
       "      <td>DRG01</td>\n",
       "      <td>14.8000</td>\n",
       "      <td>Low Fat</td>\n",
       "      <td>0.0449</td>\n",
       "      <td>Soft Drinks</td>\n",
       "      <td>75.4670</td>\n",
       "      <td>OUT046</td>\n",
       "      <td>1997</td>\n",
       "      <td>Small</td>\n",
       "      <td>Tier 1</td>\n",
       "      <td>Supermarket Type1</td>\n",
       "      <td>765.6700</td>\n",
       "    </tr>\n",
       "  </tbody>\n",
       "</table>\n",
       "<p>8523 rows × 12 columns</p>\n",
       "</div>"
      ],
      "text/plain": [
       "     Item_Identifier  Item_Weight Item_Fat_Content  Item_Visibility  \\\n",
       "0              FDA15       9.3000          Low Fat           0.0160   \n",
       "1              DRC01       5.9200          Regular           0.0193   \n",
       "2              FDN15      17.5000          Low Fat           0.0168   \n",
       "3              FDX07      19.2000          Regular           0.0000   \n",
       "4              NCD19       8.9300          Low Fat           0.0000   \n",
       "...              ...          ...              ...              ...   \n",
       "8518           FDF22       6.8650          Low Fat           0.0568   \n",
       "8519           FDS36       8.3800          Regular           0.0470   \n",
       "8520           NCJ29      10.6000          Low Fat           0.0352   \n",
       "8521           FDN46       7.2100          Regular           0.1452   \n",
       "8522           DRG01      14.8000          Low Fat           0.0449   \n",
       "\n",
       "                  Item_Type  Item_MRP Outlet_Identifier  \\\n",
       "0                     Dairy  249.8092            OUT049   \n",
       "1               Soft Drinks   48.2692            OUT018   \n",
       "2                      Meat  141.6180            OUT049   \n",
       "3     Fruits and Vegetables  182.0950            OUT010   \n",
       "4                 Household   53.8614            OUT013   \n",
       "...                     ...       ...               ...   \n",
       "8518            Snack Foods  214.5218            OUT013   \n",
       "8519           Baking Goods  108.1570            OUT045   \n",
       "8520     Health and Hygiene   85.1224            OUT035   \n",
       "8521            Snack Foods  103.1332            OUT018   \n",
       "8522            Soft Drinks   75.4670            OUT046   \n",
       "\n",
       "      Outlet_Establishment_Year Outlet_Size Outlet_Location_Type  \\\n",
       "0                          1999      Medium               Tier 1   \n",
       "1                          2009      Medium               Tier 3   \n",
       "2                          1999      Medium               Tier 1   \n",
       "3                          1998         NaN               Tier 3   \n",
       "4                          1987        High               Tier 3   \n",
       "...                         ...         ...                  ...   \n",
       "8518                       1987        High               Tier 3   \n",
       "8519                       2002         NaN               Tier 2   \n",
       "8520                       2004       Small               Tier 2   \n",
       "8521                       2009      Medium               Tier 3   \n",
       "8522                       1997       Small               Tier 1   \n",
       "\n",
       "            Outlet_Type  Item_Outlet_Sales  \n",
       "0     Supermarket Type1         3,735.1380  \n",
       "1     Supermarket Type2           443.4228  \n",
       "2     Supermarket Type1         2,097.2700  \n",
       "3         Grocery Store           732.3800  \n",
       "4     Supermarket Type1           994.7052  \n",
       "...                 ...                ...  \n",
       "8518  Supermarket Type1         2,778.3834  \n",
       "8519  Supermarket Type1           549.2850  \n",
       "8520  Supermarket Type1         1,193.1136  \n",
       "8521  Supermarket Type2         1,845.5976  \n",
       "8522  Supermarket Type1           765.6700  \n",
       "\n",
       "[8523 rows x 12 columns]"
      ]
     },
     "execution_count": 129,
     "metadata": {},
     "output_type": "execute_result"
    }
   ],
   "source": [
    "df.columns = df.columns.str.strip()\n",
    "df"
   ]
  },
  {
   "cell_type": "code",
   "execution_count": 130,
   "id": "57d87ab6",
   "metadata": {},
   "outputs": [
    {
     "data": {
      "text/plain": [
       "Item_Identifier                 0\n",
       "Item_Weight                  1463\n",
       "Item_Fat_Content                0\n",
       "Item_Visibility                 0\n",
       "Item_Type                       0\n",
       "Item_MRP                        0\n",
       "Outlet_Identifier               0\n",
       "Outlet_Establishment_Year       0\n",
       "Outlet_Size                  2410\n",
       "Outlet_Location_Type            0\n",
       "Outlet_Type                     0\n",
       "Item_Outlet_Sales               0\n",
       "dtype: int64"
      ]
     },
     "execution_count": 130,
     "metadata": {},
     "output_type": "execute_result"
    }
   ],
   "source": [
    "df.isna().sum()"
   ]
  },
  {
   "cell_type": "code",
   "execution_count": 131,
   "id": "00e67857",
   "metadata": {},
   "outputs": [
    {
     "data": {
      "text/html": [
       "<div>\n",
       "<style scoped>\n",
       "    .dataframe tbody tr th:only-of-type {\n",
       "        vertical-align: middle;\n",
       "    }\n",
       "\n",
       "    .dataframe tbody tr th {\n",
       "        vertical-align: top;\n",
       "    }\n",
       "\n",
       "    .dataframe thead th {\n",
       "        text-align: right;\n",
       "    }\n",
       "</style>\n",
       "<table border=\"1\" class=\"dataframe\">\n",
       "  <thead>\n",
       "    <tr style=\"text-align: right;\">\n",
       "      <th></th>\n",
       "      <th>Item_Weight</th>\n",
       "      <th>Item_Visibility</th>\n",
       "      <th>Item_MRP</th>\n",
       "      <th>Outlet_Establishment_Year</th>\n",
       "      <th>Item_Outlet_Sales</th>\n",
       "    </tr>\n",
       "  </thead>\n",
       "  <tbody>\n",
       "    <tr>\n",
       "      <th>count</th>\n",
       "      <td>7,060.0000</td>\n",
       "      <td>8,523.0000</td>\n",
       "      <td>8,523.0000</td>\n",
       "      <td>8,523.0000</td>\n",
       "      <td>8,523.0000</td>\n",
       "    </tr>\n",
       "    <tr>\n",
       "      <th>mean</th>\n",
       "      <td>12.8576</td>\n",
       "      <td>0.0661</td>\n",
       "      <td>140.9928</td>\n",
       "      <td>1,997.8319</td>\n",
       "      <td>2,181.2889</td>\n",
       "    </tr>\n",
       "    <tr>\n",
       "      <th>std</th>\n",
       "      <td>4.6435</td>\n",
       "      <td>0.0516</td>\n",
       "      <td>62.2751</td>\n",
       "      <td>8.3718</td>\n",
       "      <td>1,706.4996</td>\n",
       "    </tr>\n",
       "    <tr>\n",
       "      <th>min</th>\n",
       "      <td>4.5550</td>\n",
       "      <td>0.0000</td>\n",
       "      <td>31.2900</td>\n",
       "      <td>1,985.0000</td>\n",
       "      <td>33.2900</td>\n",
       "    </tr>\n",
       "    <tr>\n",
       "      <th>25%</th>\n",
       "      <td>8.7737</td>\n",
       "      <td>0.0270</td>\n",
       "      <td>93.8265</td>\n",
       "      <td>1,987.0000</td>\n",
       "      <td>834.2474</td>\n",
       "    </tr>\n",
       "    <tr>\n",
       "      <th>50%</th>\n",
       "      <td>12.6000</td>\n",
       "      <td>0.0539</td>\n",
       "      <td>143.0128</td>\n",
       "      <td>1,999.0000</td>\n",
       "      <td>1,794.3310</td>\n",
       "    </tr>\n",
       "    <tr>\n",
       "      <th>75%</th>\n",
       "      <td>16.8500</td>\n",
       "      <td>0.0946</td>\n",
       "      <td>185.6437</td>\n",
       "      <td>2,004.0000</td>\n",
       "      <td>3,101.2964</td>\n",
       "    </tr>\n",
       "    <tr>\n",
       "      <th>max</th>\n",
       "      <td>21.3500</td>\n",
       "      <td>0.3284</td>\n",
       "      <td>266.8884</td>\n",
       "      <td>2,009.0000</td>\n",
       "      <td>13,086.9648</td>\n",
       "    </tr>\n",
       "  </tbody>\n",
       "</table>\n",
       "</div>"
      ],
      "text/plain": [
       "       Item_Weight  Item_Visibility   Item_MRP  Outlet_Establishment_Year  \\\n",
       "count   7,060.0000       8,523.0000 8,523.0000                 8,523.0000   \n",
       "mean       12.8576           0.0661   140.9928                 1,997.8319   \n",
       "std         4.6435           0.0516    62.2751                     8.3718   \n",
       "min         4.5550           0.0000    31.2900                 1,985.0000   \n",
       "25%         8.7737           0.0270    93.8265                 1,987.0000   \n",
       "50%        12.6000           0.0539   143.0128                 1,999.0000   \n",
       "75%        16.8500           0.0946   185.6437                 2,004.0000   \n",
       "max        21.3500           0.3284   266.8884                 2,009.0000   \n",
       "\n",
       "       Item_Outlet_Sales  \n",
       "count         8,523.0000  \n",
       "mean          2,181.2889  \n",
       "std           1,706.4996  \n",
       "min              33.2900  \n",
       "25%             834.2474  \n",
       "50%           1,794.3310  \n",
       "75%           3,101.2964  \n",
       "max          13,086.9648  "
      ]
     },
     "execution_count": 131,
     "metadata": {},
     "output_type": "execute_result"
    }
   ],
   "source": [
    "df.describe()"
   ]
  },
  {
   "cell_type": "code",
   "execution_count": 132,
   "id": "89cc18d4",
   "metadata": {},
   "outputs": [],
   "source": [
    "df['Outlet_Size']= df['Outlet_Size'].fillna(value = 'Unknown')"
   ]
  },
  {
   "cell_type": "code",
   "execution_count": 133,
   "id": "b89f8034",
   "metadata": {},
   "outputs": [
    {
     "data": {
      "text/plain": [
       "Index(['Item_Identifier', 'Item_Weight', 'Item_Fat_Content', 'Item_Visibility',\n",
       "       'Item_Type', 'Item_MRP', 'Outlet_Identifier',\n",
       "       'Outlet_Establishment_Year', 'Outlet_Size', 'Outlet_Location_Type',\n",
       "       'Outlet_Type', 'Item_Outlet_Sales'],\n",
       "      dtype='object')"
      ]
     },
     "execution_count": 133,
     "metadata": {},
     "output_type": "execute_result"
    }
   ],
   "source": [
    "df.columns"
   ]
  },
  {
   "cell_type": "code",
   "execution_count": 134,
   "id": "2bc3fd4f",
   "metadata": {},
   "outputs": [
    {
     "data": {
      "text/plain": [
       "Item_Identifier         object\n",
       "Item_Fat_Content        object\n",
       "Item_Type               object\n",
       "Outlet_Identifier       object\n",
       "Outlet_Size             object\n",
       "Outlet_Location_Type    object\n",
       "Outlet_Type             object\n",
       "dtype: object"
      ]
     },
     "execution_count": 134,
     "metadata": {},
     "output_type": "execute_result"
    }
   ],
   "source": [
    "data_types = df.dtypes\n",
    "object_data_types = data_types[(data_types == \"object\")]\n",
    "object_data_types"
   ]
  },
  {
   "cell_type": "code",
   "execution_count": 135,
   "id": "79c0d4ea",
   "metadata": {},
   "outputs": [
    {
     "data": {
      "text/plain": [
       "Index(['Item_Identifier', 'Item_Fat_Content', 'Item_Type', 'Outlet_Identifier',\n",
       "       'Outlet_Size', 'Outlet_Location_Type', 'Outlet_Type'],\n",
       "      dtype='object')"
      ]
     },
     "execution_count": 135,
     "metadata": {},
     "output_type": "execute_result"
    }
   ],
   "source": [
    "object_data_types.index"
   ]
  },
  {
   "cell_type": "code",
   "execution_count": 136,
   "id": "53ce4b44",
   "metadata": {},
   "outputs": [
    {
     "name": "stdout",
     "output_type": "stream",
     "text": [
      "Item_Identifier\n",
      "['FDA15' 'DRC01' 'FDN15' ... 'NCF55' 'NCW30' 'NCW05']\n",
      "\n",
      "\n",
      "Item_Fat_Content\n",
      "['Low Fat' 'Regular' 'low fat' 'LF' 'reg']\n",
      "\n",
      "\n",
      "Item_Type\n",
      "['Dairy' 'Soft Drinks' 'Meat' 'Fruits and Vegetables' 'Household'\n",
      " 'Baking Goods' 'Snack Foods' 'Frozen Foods' 'Breakfast'\n",
      " 'Health and Hygiene' 'Hard Drinks' 'Canned' 'Breads' 'Starchy Foods'\n",
      " 'Others' 'Seafood']\n",
      "\n",
      "\n",
      "Outlet_Identifier\n",
      "['OUT049' 'OUT018' 'OUT010' 'OUT013' 'OUT027' 'OUT045' 'OUT017' 'OUT046'\n",
      " 'OUT035' 'OUT019']\n",
      "\n",
      "\n",
      "Outlet_Size\n",
      "['Medium' 'Unknown' 'High' 'Small']\n",
      "\n",
      "\n",
      "Outlet_Location_Type\n",
      "['Tier 1' 'Tier 3' 'Tier 2']\n",
      "\n",
      "\n",
      "Outlet_Type\n",
      "['Supermarket Type1' 'Supermarket Type2' 'Grocery Store'\n",
      " 'Supermarket Type3']\n",
      "\n",
      "\n"
     ]
    }
   ],
   "source": [
    "for column in object_data_types.index:\n",
    "    \n",
    "    print(column)\n",
    "    print(df[column].unique())\n",
    "    print('\\n')"
   ]
  },
  {
   "cell_type": "code",
   "execution_count": 137,
   "id": "6759cb56",
   "metadata": {},
   "outputs": [],
   "source": [
    "df.replace({'reg': 'Regular', 'low fat': 'Low Fat', 'LF': 'Low Fat'}, inplace = True)"
   ]
  },
  {
   "cell_type": "code",
   "execution_count": 138,
   "id": "8cd75596",
   "metadata": {},
   "outputs": [
    {
     "name": "stdout",
     "output_type": "stream",
     "text": [
      "Item_Identifier\n",
      "['FDA15' 'DRC01' 'FDN15' ... 'NCF55' 'NCW30' 'NCW05']\n",
      "\n",
      "\n",
      "Item_Fat_Content\n",
      "['Low Fat' 'Regular']\n",
      "\n",
      "\n",
      "Item_Type\n",
      "['Dairy' 'Soft Drinks' 'Meat' 'Fruits and Vegetables' 'Household'\n",
      " 'Baking Goods' 'Snack Foods' 'Frozen Foods' 'Breakfast'\n",
      " 'Health and Hygiene' 'Hard Drinks' 'Canned' 'Breads' 'Starchy Foods'\n",
      " 'Others' 'Seafood']\n",
      "\n",
      "\n",
      "Outlet_Identifier\n",
      "['OUT049' 'OUT018' 'OUT010' 'OUT013' 'OUT027' 'OUT045' 'OUT017' 'OUT046'\n",
      " 'OUT035' 'OUT019']\n",
      "\n",
      "\n",
      "Outlet_Size\n",
      "['Medium' 'Unknown' 'High' 'Small']\n",
      "\n",
      "\n",
      "Outlet_Location_Type\n",
      "['Tier 1' 'Tier 3' 'Tier 2']\n",
      "\n",
      "\n",
      "Outlet_Type\n",
      "['Supermarket Type1' 'Supermarket Type2' 'Grocery Store'\n",
      " 'Supermarket Type3']\n",
      "\n",
      "\n"
     ]
    }
   ],
   "source": [
    "for column in object_data_types.index:\n",
    "    \n",
    "    print(column)\n",
    "    print(df[column].unique())\n",
    "    print('\\n')"
   ]
  },
  {
   "cell_type": "markdown",
   "id": "3cad1c0e",
   "metadata": {},
   "source": [
    "### Visualizing Final Target"
   ]
  },
  {
   "cell_type": "code",
   "execution_count": 139,
   "id": "c0684d50",
   "metadata": {},
   "outputs": [
    {
     "data": {
      "image/png": "[encoded data removed]",
      "text/plain": [
       "<Figure size 600x500 with 2 Axes>"
      ]
     },
     "metadata": {},
     "output_type": "display_data"
    }
   ],
   "source": [
    "target = 'Item_Outlet_Sales'\n",
    "\n",
    "grid_spec = {'height_ratios':[0.8,0.2]}\n",
    "fig, axes = plt.subplots(nrows=2, figsize=(6,5), gridspec_kw=grid_spec)\n",
    "\n",
    "sns.histplot(data=df, x=target,ax=axes[0])\n",
    "sns.boxplot(data=df, x=target, ax=axes[1]);"
   ]
  },
  {
   "cell_type": "markdown",
   "id": "698cc606",
   "metadata": {},
   "source": [
    "### Preprocessing "
   ]
  },
  {
   "cell_type": "code",
   "execution_count": 140,
   "id": "7ef569d7",
   "metadata": {},
   "outputs": [
    {
     "data": {
      "text/html": [
       "<div>\n",
       "<style scoped>\n",
       "    .dataframe tbody tr th:only-of-type {\n",
       "        vertical-align: middle;\n",
       "    }\n",
       "\n",
       "    .dataframe tbody tr th {\n",
       "        vertical-align: top;\n",
       "    }\n",
       "\n",
       "    .dataframe thead th {\n",
       "        text-align: right;\n",
       "    }\n",
       "</style>\n",
       "<table border=\"1\" class=\"dataframe\">\n",
       "  <thead>\n",
       "    <tr style=\"text-align: right;\">\n",
       "      <th></th>\n",
       "      <th>Item_Identifier</th>\n",
       "      <th>Item_Weight</th>\n",
       "      <th>Item_Fat_Content</th>\n",
       "      <th>Item_Visibility</th>\n",
       "      <th>Item_Type</th>\n",
       "      <th>Item_MRP</th>\n",
       "      <th>Outlet_Identifier</th>\n",
       "      <th>Outlet_Establishment_Year</th>\n",
       "      <th>Outlet_Size</th>\n",
       "      <th>Outlet_Location_Type</th>\n",
       "      <th>Outlet_Type</th>\n",
       "    </tr>\n",
       "  </thead>\n",
       "  <tbody>\n",
       "    <tr>\n",
       "      <th>8269</th>\n",
       "      <td>FDI60</td>\n",
       "      <td>7.2200</td>\n",
       "      <td>Regular</td>\n",
       "      <td>0.0641</td>\n",
       "      <td>Baking Goods</td>\n",
       "      <td>61.2510</td>\n",
       "      <td>OUT010</td>\n",
       "      <td>1998</td>\n",
       "      <td>Unknown</td>\n",
       "      <td>Tier 3</td>\n",
       "      <td>Grocery Store</td>\n",
       "    </tr>\n",
       "    <tr>\n",
       "      <th>7604</th>\n",
       "      <td>DRD25</td>\n",
       "      <td>6.1350</td>\n",
       "      <td>Low Fat</td>\n",
       "      <td>0.0793</td>\n",
       "      <td>Soft Drinks</td>\n",
       "      <td>111.2860</td>\n",
       "      <td>OUT018</td>\n",
       "      <td>2009</td>\n",
       "      <td>Medium</td>\n",
       "      <td>Tier 3</td>\n",
       "      <td>Supermarket Type2</td>\n",
       "    </tr>\n",
       "    <tr>\n",
       "      <th>2762</th>\n",
       "      <td>NCP18</td>\n",
       "      <td>12.1500</td>\n",
       "      <td>Low Fat</td>\n",
       "      <td>0.0286</td>\n",
       "      <td>Household</td>\n",
       "      <td>151.0708</td>\n",
       "      <td>OUT035</td>\n",
       "      <td>2004</td>\n",
       "      <td>Small</td>\n",
       "      <td>Tier 2</td>\n",
       "      <td>Supermarket Type1</td>\n",
       "    </tr>\n",
       "    <tr>\n",
       "      <th>6464</th>\n",
       "      <td>NCS30</td>\n",
       "      <td>5.9450</td>\n",
       "      <td>Low Fat</td>\n",
       "      <td>0.0930</td>\n",
       "      <td>Household</td>\n",
       "      <td>127.8652</td>\n",
       "      <td>OUT035</td>\n",
       "      <td>2004</td>\n",
       "      <td>Small</td>\n",
       "      <td>Tier 2</td>\n",
       "      <td>Supermarket Type1</td>\n",
       "    </tr>\n",
       "    <tr>\n",
       "      <th>4707</th>\n",
       "      <td>FDI08</td>\n",
       "      <td>18.2000</td>\n",
       "      <td>Regular</td>\n",
       "      <td>0.0663</td>\n",
       "      <td>Fruits and Vegetables</td>\n",
       "      <td>247.2092</td>\n",
       "      <td>OUT035</td>\n",
       "      <td>2004</td>\n",
       "      <td>Small</td>\n",
       "      <td>Tier 2</td>\n",
       "      <td>Supermarket Type1</td>\n",
       "    </tr>\n",
       "  </tbody>\n",
       "</table>\n",
       "</div>"
      ],
      "text/plain": [
       "     Item_Identifier  Item_Weight Item_Fat_Content  Item_Visibility  \\\n",
       "8269           FDI60       7.2200          Regular           0.0641   \n",
       "7604           DRD25       6.1350          Low Fat           0.0793   \n",
       "2762           NCP18      12.1500          Low Fat           0.0286   \n",
       "6464           NCS30       5.9450          Low Fat           0.0930   \n",
       "4707           FDI08      18.2000          Regular           0.0663   \n",
       "\n",
       "                  Item_Type  Item_MRP Outlet_Identifier  \\\n",
       "8269           Baking Goods   61.2510            OUT010   \n",
       "7604            Soft Drinks  111.2860            OUT018   \n",
       "2762              Household  151.0708            OUT035   \n",
       "6464              Household  127.8652            OUT035   \n",
       "4707  Fruits and Vegetables  247.2092            OUT035   \n",
       "\n",
       "      Outlet_Establishment_Year Outlet_Size Outlet_Location_Type  \\\n",
       "8269                       1998     Unknown               Tier 3   \n",
       "7604                       2009      Medium               Tier 3   \n",
       "2762                       2004       Small               Tier 2   \n",
       "6464                       2004       Small               Tier 2   \n",
       "4707                       2004       Small               Tier 2   \n",
       "\n",
       "            Outlet_Type  \n",
       "8269      Grocery Store  \n",
       "7604  Supermarket Type2  \n",
       "2762  Supermarket Type1  \n",
       "6464  Supermarket Type1  \n",
       "4707  Supermarket Type1  "
      ]
     },
     "execution_count": 140,
     "metadata": {},
     "output_type": "execute_result"
    }
   ],
   "source": [
    "target = \"Item_Outlet_Sales\"\n",
    "drop_feats=[]\n",
    "\n",
    "y = df[target].copy()\n",
    "X = df.drop(columns=[target,*drop_feats]).copy()\n",
    "\n",
    "\n",
    "X_train, X_test, y_train, y_test = train_test_split(X,y, random_state=SEED)\n",
    "X_train.head(5)\n"
   ]
  },
  {
   "cell_type": "code",
   "execution_count": 141,
   "id": "6ea8687e",
   "metadata": {},
   "outputs": [],
   "source": [
    "num_sel = make_column_selector(dtype_include='number')\n",
    "mean_imputer = SimpleImputer(strategy='mean')\n",
    "\n",
    "num_tuple = ('Numeric', mean_imputer, num_sel)"
   ]
  },
  {
   "cell_type": "code",
   "execution_count": 142,
   "id": "c07f80d6",
   "metadata": {},
   "outputs": [],
   "source": [
    "X_train = X_train.drop(columns='Item_Identifier')\n",
    "X_test = X_test.drop(columns='Item_Identifier')"
   ]
  },
  {
   "cell_type": "code",
   "execution_count": 143,
   "id": "61a8a289",
   "metadata": {},
   "outputs": [],
   "source": [
    "cat_sel = make_column_selector(dtype_include='object')\n",
    "\n",
    "cat_pipe = make_pipeline(SimpleImputer(strategy='constant',\n",
    "                                       fill_value='MISSING'),\n",
    "                         OneHotEncoder(handle_unknown='ignore', \n",
    "                                       sparse=False,\n",
    "                                       drop='if_binary'))\n",
    "\n",
    "cat_tuple = ('Categorical', cat_pipe, cat_sel)"
   ]
  },
  {
   "cell_type": "code",
   "execution_count": 144,
   "id": "d1a91dee",
   "metadata": {},
   "outputs": [
    {
     "data": {
      "text/html": [
       "<style>#sk-container-id-5 {color: black;background-color: white;}#sk-container-id-5 pre{padding: 0;}#sk-container-id-5 div.sk-toggleable {background-color: white;}#sk-container-id-5 label.sk-toggleable__label {cursor: pointer;display: block;width: 100%;margin-bottom: 0;padding: 0.3em;box-sizing: border-box;text-align: center;}#sk-container-id-5 label.sk-toggleable__label-arrow:before {content: \"▸\";float: left;margin-right: 0.25em;color: #696969;}#sk-container-id-5 label.sk-toggleable__label-arrow:hover:before {color: black;}#sk-container-id-5 div.sk-estimator:hover label.sk-toggleable__label-arrow:before {color: black;}#sk-container-id-5 div.sk-toggleable__content {max-height: 0;max-width: 0;overflow: hidden;text-align: left;background-color: #f0f8ff;}#sk-container-id-5 div.sk-toggleable__content pre {margin: 0.2em;color: black;border-radius: 0.25em;background-color: #f0f8ff;}#sk-container-id-5 input.sk-toggleable__control:checked~div.sk-toggleable__content {max-height: 200px;max-width: 100%;overflow: auto;}#sk-container-id-5 input.sk-toggleable__control:checked~label.sk-toggleable__label-arrow:before {content: \"▾\";}#sk-container-id-5 div.sk-estimator input.sk-toggleable__control:checked~label.sk-toggleable__label {background-color: #d4ebff;}#sk-container-id-5 div.sk-label input.sk-toggleable__control:checked~label.sk-toggleable__label {background-color: #d4ebff;}#sk-container-id-5 input.sk-hidden--visually {border: 0;clip: rect(1px 1px 1px 1px);clip: rect(1px, 1px, 1px, 1px);height: 1px;margin: -1px;overflow: hidden;padding: 0;position: absolute;width: 1px;}#sk-container-id-5 div.sk-estimator {font-family: monospace;background-color: #f0f8ff;border: 1px dotted black;border-radius: 0.25em;box-sizing: border-box;margin-bottom: 0.5em;}#sk-container-id-5 div.sk-estimator:hover {background-color: #d4ebff;}#sk-container-id-5 div.sk-parallel-item::after {content: \"\";width: 100%;border-bottom: 1px solid gray;flex-grow: 1;}#sk-container-id-5 div.sk-label:hover label.sk-toggleable__label {background-color: #d4ebff;}#sk-container-id-5 div.sk-serial::before {content: \"\";position: absolute;border-left: 1px solid gray;box-sizing: border-box;top: 0;bottom: 0;left: 50%;z-index: 0;}#sk-container-id-5 div.sk-serial {display: flex;flex-direction: column;align-items: center;background-color: white;padding-right: 0.2em;padding-left: 0.2em;position: relative;}#sk-container-id-5 div.sk-item {position: relative;z-index: 1;}#sk-container-id-5 div.sk-parallel {display: flex;align-items: stretch;justify-content: center;background-color: white;position: relative;}#sk-container-id-5 div.sk-item::before, #sk-container-id-5 div.sk-parallel-item::before {content: \"\";position: absolute;border-left: 1px solid gray;box-sizing: border-box;top: 0;bottom: 0;left: 50%;z-index: -1;}#sk-container-id-5 div.sk-parallel-item {display: flex;flex-direction: column;z-index: 1;position: relative;background-color: white;}#sk-container-id-5 div.sk-parallel-item:first-child::after {align-self: flex-end;width: 50%;}#sk-container-id-5 div.sk-parallel-item:last-child::after {align-self: flex-start;width: 50%;}#sk-container-id-5 div.sk-parallel-item:only-child::after {width: 0;}#sk-container-id-5 div.sk-dashed-wrapped {border: 1px dashed gray;margin: 0 0.4em 0.5em 0.4em;box-sizing: border-box;padding-bottom: 0.4em;background-color: white;}#sk-container-id-5 div.sk-label label {font-family: monospace;font-weight: bold;display: inline-block;line-height: 1.2em;}#sk-container-id-5 div.sk-label-container {text-align: center;}#sk-container-id-5 div.sk-container {/* jupyter's `normalize.less` sets `[hidden] { display: none; }` but bootstrap.min.css set `[hidden] { display: none !important; }` so we also need the `!important` here to be able to override the default hidden behavior on the sphinx rendered scikit-learn.org. See: https://github.com/scikit-learn/scikit-learn/issues/21755 */display: inline-block !important;position: relative;}#sk-container-id-5 div.sk-text-repr-fallback {display: none;}</style><div id=\"sk-container-id-5\" class=\"sk-top-container\"><div class=\"sk-text-repr-fallback\"><pre>ColumnTransformer(transformers=[(&#x27;Numeric&#x27;, SimpleImputer(),\n",
       "                                 &lt;sklearn.compose._column_transformer.make_column_selector object at 0x000002026BF2E1C0&gt;),\n",
       "                                (&#x27;Categorical&#x27;,\n",
       "                                 Pipeline(steps=[(&#x27;simpleimputer&#x27;,\n",
       "                                                  SimpleImputer(fill_value=&#x27;MISSING&#x27;,\n",
       "                                                                strategy=&#x27;constant&#x27;)),\n",
       "                                                 (&#x27;onehotencoder&#x27;,\n",
       "                                                  OneHotEncoder(drop=&#x27;if_binary&#x27;,\n",
       "                                                                handle_unknown=&#x27;ignore&#x27;,\n",
       "                                                                sparse=False))]),\n",
       "                                 &lt;sklearn.compose._column_transformer.make_column_selector object at 0x000002026BF878B0&gt;)],\n",
       "                  verbose_feature_names_out=False)</pre><b>In a Jupyter environment, please rerun this cell to show the HTML representation or trust the notebook. <br />On GitHub, the HTML representation is unable to render, please try loading this page with nbviewer.org.</b></div><div class=\"sk-container\" hidden><div class=\"sk-item sk-dashed-wrapped\"><div class=\"sk-label-container\"><div class=\"sk-label sk-toggleable\"><input class=\"sk-toggleable__control sk-hidden--visually\" id=\"sk-estimator-id-25\" type=\"checkbox\" ><label for=\"sk-estimator-id-25\" class=\"sk-toggleable__label sk-toggleable__label-arrow\">ColumnTransformer</label><div class=\"sk-toggleable__content\"><pre>ColumnTransformer(transformers=[(&#x27;Numeric&#x27;, SimpleImputer(),\n",
       "                                 &lt;sklearn.compose._column_transformer.make_column_selector object at 0x000002026BF2E1C0&gt;),\n",
       "                                (&#x27;Categorical&#x27;,\n",
       "                                 Pipeline(steps=[(&#x27;simpleimputer&#x27;,\n",
       "                                                  SimpleImputer(fill_value=&#x27;MISSING&#x27;,\n",
       "                                                                strategy=&#x27;constant&#x27;)),\n",
       "                                                 (&#x27;onehotencoder&#x27;,\n",
       "                                                  OneHotEncoder(drop=&#x27;if_binary&#x27;,\n",
       "                                                                handle_unknown=&#x27;ignore&#x27;,\n",
       "                                                                sparse=False))]),\n",
       "                                 &lt;sklearn.compose._column_transformer.make_column_selector object at 0x000002026BF878B0&gt;)],\n",
       "                  verbose_feature_names_out=False)</pre></div></div></div><div class=\"sk-parallel\"><div class=\"sk-parallel-item\"><div class=\"sk-item\"><div class=\"sk-label-container\"><div class=\"sk-label sk-toggleable\"><input class=\"sk-toggleable__control sk-hidden--visually\" id=\"sk-estimator-id-26\" type=\"checkbox\" ><label for=\"sk-estimator-id-26\" class=\"sk-toggleable__label sk-toggleable__label-arrow\">Numeric</label><div class=\"sk-toggleable__content\"><pre>&lt;sklearn.compose._column_transformer.make_column_selector object at 0x000002026BF2E1C0&gt;</pre></div></div></div><div class=\"sk-serial\"><div class=\"sk-item\"><div class=\"sk-estimator sk-toggleable\"><input class=\"sk-toggleable__control sk-hidden--visually\" id=\"sk-estimator-id-27\" type=\"checkbox\" ><label for=\"sk-estimator-id-27\" class=\"sk-toggleable__label sk-toggleable__label-arrow\">SimpleImputer</label><div class=\"sk-toggleable__content\"><pre>SimpleImputer()</pre></div></div></div></div></div></div><div class=\"sk-parallel-item\"><div class=\"sk-item\"><div class=\"sk-label-container\"><div class=\"sk-label sk-toggleable\"><input class=\"sk-toggleable__control sk-hidden--visually\" id=\"sk-estimator-id-28\" type=\"checkbox\" ><label for=\"sk-estimator-id-28\" class=\"sk-toggleable__label sk-toggleable__label-arrow\">Categorical</label><div class=\"sk-toggleable__content\"><pre>&lt;sklearn.compose._column_transformer.make_column_selector object at 0x000002026BF878B0&gt;</pre></div></div></div><div class=\"sk-serial\"><div class=\"sk-item\"><div class=\"sk-serial\"><div class=\"sk-item\"><div class=\"sk-estimator sk-toggleable\"><input class=\"sk-toggleable__control sk-hidden--visually\" id=\"sk-estimator-id-29\" type=\"checkbox\" ><label for=\"sk-estimator-id-29\" class=\"sk-toggleable__label sk-toggleable__label-arrow\">SimpleImputer</label><div class=\"sk-toggleable__content\"><pre>SimpleImputer(fill_value=&#x27;MISSING&#x27;, strategy=&#x27;constant&#x27;)</pre></div></div></div><div class=\"sk-item\"><div class=\"sk-estimator sk-toggleable\"><input class=\"sk-toggleable__control sk-hidden--visually\" id=\"sk-estimator-id-30\" type=\"checkbox\" ><label for=\"sk-estimator-id-30\" class=\"sk-toggleable__label sk-toggleable__label-arrow\">OneHotEncoder</label><div class=\"sk-toggleable__content\"><pre>OneHotEncoder(drop=&#x27;if_binary&#x27;, handle_unknown=&#x27;ignore&#x27;, sparse=False)</pre></div></div></div></div></div></div></div></div></div></div></div></div>"
      ],
      "text/plain": [
       "ColumnTransformer(transformers=[('Numeric', SimpleImputer(),\n",
       "                                 <sklearn.compose._column_transformer.make_column_selector object at 0x000002026BF2E1C0>),\n",
       "                                ('Categorical',\n",
       "                                 Pipeline(steps=[('simpleimputer',\n",
       "                                                  SimpleImputer(fill_value='MISSING',\n",
       "                                                                strategy='constant')),\n",
       "                                                 ('onehotencoder',\n",
       "                                                  OneHotEncoder(drop='if_binary',\n",
       "                                                                handle_unknown='ignore',\n",
       "                                                                sparse=False))]),\n",
       "                                 <sklearn.compose._column_transformer.make_column_selector object at 0x000002026BF878B0>)],\n",
       "                  verbose_feature_names_out=False)"
      ]
     },
     "execution_count": 144,
     "metadata": {},
     "output_type": "execute_result"
    }
   ],
   "source": [
    "preprocessor = ColumnTransformer([num_tuple, cat_tuple],\n",
    "                                verbose_feature_names_out=False)\n",
    "preprocessor"
   ]
  },
  {
   "cell_type": "code",
   "execution_count": 145,
   "id": "a2fc76fc",
   "metadata": {},
   "outputs": [
    {
     "data": {
      "text/html": [
       "<style>#sk-container-id-6 {color: black;background-color: white;}#sk-container-id-6 pre{padding: 0;}#sk-container-id-6 div.sk-toggleable {background-color: white;}#sk-container-id-6 label.sk-toggleable__label {cursor: pointer;display: block;width: 100%;margin-bottom: 0;padding: 0.3em;box-sizing: border-box;text-align: center;}#sk-container-id-6 label.sk-toggleable__label-arrow:before {content: \"▸\";float: left;margin-right: 0.25em;color: #696969;}#sk-container-id-6 label.sk-toggleable__label-arrow:hover:before {color: black;}#sk-container-id-6 div.sk-estimator:hover label.sk-toggleable__label-arrow:before {color: black;}#sk-container-id-6 div.sk-toggleable__content {max-height: 0;max-width: 0;overflow: hidden;text-align: left;background-color: #f0f8ff;}#sk-container-id-6 div.sk-toggleable__content pre {margin: 0.2em;color: black;border-radius: 0.25em;background-color: #f0f8ff;}#sk-container-id-6 input.sk-toggleable__control:checked~div.sk-toggleable__content {max-height: 200px;max-width: 100%;overflow: auto;}#sk-container-id-6 input.sk-toggleable__control:checked~label.sk-toggleable__label-arrow:before {content: \"▾\";}#sk-container-id-6 div.sk-estimator input.sk-toggleable__control:checked~label.sk-toggleable__label {background-color: #d4ebff;}#sk-container-id-6 div.sk-label input.sk-toggleable__control:checked~label.sk-toggleable__label {background-color: #d4ebff;}#sk-container-id-6 input.sk-hidden--visually {border: 0;clip: rect(1px 1px 1px 1px);clip: rect(1px, 1px, 1px, 1px);height: 1px;margin: -1px;overflow: hidden;padding: 0;position: absolute;width: 1px;}#sk-container-id-6 div.sk-estimator {font-family: monospace;background-color: #f0f8ff;border: 1px dotted black;border-radius: 0.25em;box-sizing: border-box;margin-bottom: 0.5em;}#sk-container-id-6 div.sk-estimator:hover {background-color: #d4ebff;}#sk-container-id-6 div.sk-parallel-item::after {content: \"\";width: 100%;border-bottom: 1px solid gray;flex-grow: 1;}#sk-container-id-6 div.sk-label:hover label.sk-toggleable__label {background-color: #d4ebff;}#sk-container-id-6 div.sk-serial::before {content: \"\";position: absolute;border-left: 1px solid gray;box-sizing: border-box;top: 0;bottom: 0;left: 50%;z-index: 0;}#sk-container-id-6 div.sk-serial {display: flex;flex-direction: column;align-items: center;background-color: white;padding-right: 0.2em;padding-left: 0.2em;position: relative;}#sk-container-id-6 div.sk-item {position: relative;z-index: 1;}#sk-container-id-6 div.sk-parallel {display: flex;align-items: stretch;justify-content: center;background-color: white;position: relative;}#sk-container-id-6 div.sk-item::before, #sk-container-id-6 div.sk-parallel-item::before {content: \"\";position: absolute;border-left: 1px solid gray;box-sizing: border-box;top: 0;bottom: 0;left: 50%;z-index: -1;}#sk-container-id-6 div.sk-parallel-item {display: flex;flex-direction: column;z-index: 1;position: relative;background-color: white;}#sk-container-id-6 div.sk-parallel-item:first-child::after {align-self: flex-end;width: 50%;}#sk-container-id-6 div.sk-parallel-item:last-child::after {align-self: flex-start;width: 50%;}#sk-container-id-6 div.sk-parallel-item:only-child::after {width: 0;}#sk-container-id-6 div.sk-dashed-wrapped {border: 1px dashed gray;margin: 0 0.4em 0.5em 0.4em;box-sizing: border-box;padding-bottom: 0.4em;background-color: white;}#sk-container-id-6 div.sk-label label {font-family: monospace;font-weight: bold;display: inline-block;line-height: 1.2em;}#sk-container-id-6 div.sk-label-container {text-align: center;}#sk-container-id-6 div.sk-container {/* jupyter's `normalize.less` sets `[hidden] { display: none; }` but bootstrap.min.css set `[hidden] { display: none !important; }` so we also need the `!important` here to be able to override the default hidden behavior on the sphinx rendered scikit-learn.org. See: https://github.com/scikit-learn/scikit-learn/issues/21755 */display: inline-block !important;position: relative;}#sk-container-id-6 div.sk-text-repr-fallback {display: none;}</style><div id=\"sk-container-id-6\" class=\"sk-top-container\"><div class=\"sk-text-repr-fallback\"><pre>ColumnTransformer(transformers=[(&#x27;Numeric&#x27;, SimpleImputer(),\n",
       "                                 &lt;sklearn.compose._column_transformer.make_column_selector object at 0x000002026BF2E1C0&gt;),\n",
       "                                (&#x27;Categorical&#x27;,\n",
       "                                 Pipeline(steps=[(&#x27;simpleimputer&#x27;,\n",
       "                                                  SimpleImputer(fill_value=&#x27;MISSING&#x27;,\n",
       "                                                                strategy=&#x27;constant&#x27;)),\n",
       "                                                 (&#x27;onehotencoder&#x27;,\n",
       "                                                  OneHotEncoder(drop=&#x27;if_binary&#x27;,\n",
       "                                                                handle_unknown=&#x27;ignore&#x27;,\n",
       "                                                                sparse=False))]),\n",
       "                                 &lt;sklearn.compose._column_transformer.make_column_selector object at 0x000002026BF878B0&gt;)],\n",
       "                  verbose_feature_names_out=False)</pre><b>In a Jupyter environment, please rerun this cell to show the HTML representation or trust the notebook. <br />On GitHub, the HTML representation is unable to render, please try loading this page with nbviewer.org.</b></div><div class=\"sk-container\" hidden><div class=\"sk-item sk-dashed-wrapped\"><div class=\"sk-label-container\"><div class=\"sk-label sk-toggleable\"><input class=\"sk-toggleable__control sk-hidden--visually\" id=\"sk-estimator-id-31\" type=\"checkbox\" ><label for=\"sk-estimator-id-31\" class=\"sk-toggleable__label sk-toggleable__label-arrow\">ColumnTransformer</label><div class=\"sk-toggleable__content\"><pre>ColumnTransformer(transformers=[(&#x27;Numeric&#x27;, SimpleImputer(),\n",
       "                                 &lt;sklearn.compose._column_transformer.make_column_selector object at 0x000002026BF2E1C0&gt;),\n",
       "                                (&#x27;Categorical&#x27;,\n",
       "                                 Pipeline(steps=[(&#x27;simpleimputer&#x27;,\n",
       "                                                  SimpleImputer(fill_value=&#x27;MISSING&#x27;,\n",
       "                                                                strategy=&#x27;constant&#x27;)),\n",
       "                                                 (&#x27;onehotencoder&#x27;,\n",
       "                                                  OneHotEncoder(drop=&#x27;if_binary&#x27;,\n",
       "                                                                handle_unknown=&#x27;ignore&#x27;,\n",
       "                                                                sparse=False))]),\n",
       "                                 &lt;sklearn.compose._column_transformer.make_column_selector object at 0x000002026BF878B0&gt;)],\n",
       "                  verbose_feature_names_out=False)</pre></div></div></div><div class=\"sk-parallel\"><div class=\"sk-parallel-item\"><div class=\"sk-item\"><div class=\"sk-label-container\"><div class=\"sk-label sk-toggleable\"><input class=\"sk-toggleable__control sk-hidden--visually\" id=\"sk-estimator-id-32\" type=\"checkbox\" ><label for=\"sk-estimator-id-32\" class=\"sk-toggleable__label sk-toggleable__label-arrow\">Numeric</label><div class=\"sk-toggleable__content\"><pre>&lt;sklearn.compose._column_transformer.make_column_selector object at 0x000002026BF2E1C0&gt;</pre></div></div></div><div class=\"sk-serial\"><div class=\"sk-item\"><div class=\"sk-estimator sk-toggleable\"><input class=\"sk-toggleable__control sk-hidden--visually\" id=\"sk-estimator-id-33\" type=\"checkbox\" ><label for=\"sk-estimator-id-33\" class=\"sk-toggleable__label sk-toggleable__label-arrow\">SimpleImputer</label><div class=\"sk-toggleable__content\"><pre>SimpleImputer()</pre></div></div></div></div></div></div><div class=\"sk-parallel-item\"><div class=\"sk-item\"><div class=\"sk-label-container\"><div class=\"sk-label sk-toggleable\"><input class=\"sk-toggleable__control sk-hidden--visually\" id=\"sk-estimator-id-34\" type=\"checkbox\" ><label for=\"sk-estimator-id-34\" class=\"sk-toggleable__label sk-toggleable__label-arrow\">Categorical</label><div class=\"sk-toggleable__content\"><pre>&lt;sklearn.compose._column_transformer.make_column_selector object at 0x000002026BF878B0&gt;</pre></div></div></div><div class=\"sk-serial\"><div class=\"sk-item\"><div class=\"sk-serial\"><div class=\"sk-item\"><div class=\"sk-estimator sk-toggleable\"><input class=\"sk-toggleable__control sk-hidden--visually\" id=\"sk-estimator-id-35\" type=\"checkbox\" ><label for=\"sk-estimator-id-35\" class=\"sk-toggleable__label sk-toggleable__label-arrow\">SimpleImputer</label><div class=\"sk-toggleable__content\"><pre>SimpleImputer(fill_value=&#x27;MISSING&#x27;, strategy=&#x27;constant&#x27;)</pre></div></div></div><div class=\"sk-item\"><div class=\"sk-estimator sk-toggleable\"><input class=\"sk-toggleable__control sk-hidden--visually\" id=\"sk-estimator-id-36\" type=\"checkbox\" ><label for=\"sk-estimator-id-36\" class=\"sk-toggleable__label sk-toggleable__label-arrow\">OneHotEncoder</label><div class=\"sk-toggleable__content\"><pre>OneHotEncoder(drop=&#x27;if_binary&#x27;, handle_unknown=&#x27;ignore&#x27;, sparse=False)</pre></div></div></div></div></div></div></div></div></div></div></div></div>"
      ],
      "text/plain": [
       "ColumnTransformer(transformers=[('Numeric', SimpleImputer(),\n",
       "                                 <sklearn.compose._column_transformer.make_column_selector object at 0x000002026BF2E1C0>),\n",
       "                                ('Categorical',\n",
       "                                 Pipeline(steps=[('simpleimputer',\n",
       "                                                  SimpleImputer(fill_value='MISSING',\n",
       "                                                                strategy='constant')),\n",
       "                                                 ('onehotencoder',\n",
       "                                                  OneHotEncoder(drop='if_binary',\n",
       "                                                                handle_unknown='ignore',\n",
       "                                                                sparse=False))]),\n",
       "                                 <sklearn.compose._column_transformer.make_column_selector object at 0x000002026BF878B0>)],\n",
       "                  verbose_feature_names_out=False)"
      ]
     },
     "execution_count": 145,
     "metadata": {},
     "output_type": "execute_result"
    }
   ],
   "source": [
    "preprocessor.fit(X_train)"
   ]
  },
  {
   "cell_type": "code",
   "execution_count": 146,
   "id": "790e3c4b",
   "metadata": {},
   "outputs": [],
   "source": [
    "X_train_proc = preprocessor.transform(X_train)\n",
    "X_test_proc = preprocessor.transform(X_test)\n"
   ]
  },
  {
   "cell_type": "code",
   "execution_count": 147,
   "id": "0a2e97ba",
   "metadata": {},
   "outputs": [
    {
     "data": {
      "text/plain": [
       "array(['Item_Weight', 'Item_Visibility', 'Item_MRP',\n",
       "       'Outlet_Establishment_Year', 'Item_Fat_Content_Regular',\n",
       "       'Item_Type_Baking Goods', 'Item_Type_Breads',\n",
       "       'Item_Type_Breakfast', 'Item_Type_Canned', 'Item_Type_Dairy',\n",
       "       'Item_Type_Frozen Foods', 'Item_Type_Fruits and Vegetables',\n",
       "       'Item_Type_Hard Drinks', 'Item_Type_Health and Hygiene',\n",
       "       'Item_Type_Household', 'Item_Type_Meat', 'Item_Type_Others',\n",
       "       'Item_Type_Seafood', 'Item_Type_Snack Foods',\n",
       "       'Item_Type_Soft Drinks', 'Item_Type_Starchy Foods',\n",
       "       'Outlet_Identifier_OUT010', 'Outlet_Identifier_OUT013',\n",
       "       'Outlet_Identifier_OUT017', 'Outlet_Identifier_OUT018',\n",
       "       'Outlet_Identifier_OUT019', 'Outlet_Identifier_OUT027',\n",
       "       'Outlet_Identifier_OUT035', 'Outlet_Identifier_OUT045',\n",
       "       'Outlet_Identifier_OUT046', 'Outlet_Identifier_OUT049',\n",
       "       'Outlet_Size_High', 'Outlet_Size_Medium', 'Outlet_Size_Small',\n",
       "       'Outlet_Size_Unknown', 'Outlet_Location_Type_Tier 1',\n",
       "       'Outlet_Location_Type_Tier 2', 'Outlet_Location_Type_Tier 3',\n",
       "       'Outlet_Type_Grocery Store', 'Outlet_Type_Supermarket Type1',\n",
       "       'Outlet_Type_Supermarket Type2', 'Outlet_Type_Supermarket Type3'],\n",
       "      dtype=object)"
      ]
     },
     "execution_count": 147,
     "metadata": {},
     "output_type": "execute_result"
    }
   ],
   "source": [
    "feature_names = preprocessor.get_feature_names_out()\n",
    "feature_names"
   ]
  },
  {
   "cell_type": "markdown",
   "id": "ea39164f",
   "metadata": {},
   "source": [
    "## Linear Regression"
   ]
  },
  {
   "cell_type": "code",
   "execution_count": 148,
   "id": "b1dc8081",
   "metadata": {},
   "outputs": [],
   "source": [
    "from sklearn.linear_model import LinearRegression"
   ]
  },
  {
   "cell_type": "code",
   "execution_count": 149,
   "id": "84055b01",
   "metadata": {},
   "outputs": [
    {
     "data": {
      "text/html": [
       "<style type=\"text/css\">\n",
       "</style>\n",
       "<table id=\"T_db227\">\n",
       "  <thead>\n",
       "    <tr>\n",
       "      <th id=\"T_db227_level0_col0\" class=\"col_heading level0 col0\" >Split</th>\n",
       "      <th id=\"T_db227_level0_col1\" class=\"col_heading level0 col1\" >R^2</th>\n",
       "      <th id=\"T_db227_level0_col2\" class=\"col_heading level0 col2\" >MAE</th>\n",
       "      <th id=\"T_db227_level0_col3\" class=\"col_heading level0 col3\" >RMSE</th>\n",
       "    </tr>\n",
       "  </thead>\n",
       "  <tbody>\n",
       "    <tr>\n",
       "      <td id=\"T_db227_row0_col0\" class=\"data row0 col0\" >Train</td>\n",
       "      <td id=\"T_db227_row0_col1\" class=\"data row0 col1\" >0.56</td>\n",
       "      <td id=\"T_db227_row0_col2\" class=\"data row0 col2\" >826.79</td>\n",
       "      <td id=\"T_db227_row0_col3\" class=\"data row0 col3\" >1,114.98</td>\n",
       "    </tr>\n",
       "    <tr>\n",
       "      <td id=\"T_db227_row1_col0\" class=\"data row1 col0\" >Test</td>\n",
       "      <td id=\"T_db227_row1_col1\" class=\"data row1 col1\" >0.56</td>\n",
       "      <td id=\"T_db227_row1_col2\" class=\"data row1 col2\" >859.97</td>\n",
       "      <td id=\"T_db227_row1_col3\" class=\"data row1 col3\" >1,164.41</td>\n",
       "    </tr>\n",
       "  </tbody>\n",
       "</table>\n"
      ],
      "text/plain": [
       "<pandas.io.formats.style.Styler at 0x2026bf95310>"
      ]
     },
     "metadata": {},
     "output_type": "display_data"
    }
   ],
   "source": [
    "lin_reg = LinearRegression()\n",
    "lin_reg.fit(X_train_proc, y_train)\n",
    "evaluate_regression(lin_reg, X_train_proc, y_train, \n",
    "                    X_test_proc, y_test)"
   ]
  },
  {
   "cell_type": "code",
   "execution_count": 150,
   "id": "1e22e1b4",
   "metadata": {},
   "outputs": [
    {
     "data": {
      "text/plain": [
       "array([   1.06785557, -276.61155652,   15.60194362,  -14.22042061,\n",
       "         31.37658854,    8.97739258,   -4.09219017,   69.88439671,\n",
       "         22.60032924,  -48.84338125,   -5.40780071,   16.17362127,\n",
       "         49.13525181,  -41.49960301,  -68.64200308,  -15.91206968,\n",
       "         17.60709784,   98.50049025,  -11.70291833, -117.85587742,\n",
       "         31.07726395, -420.53817385,  -67.99342481,  213.17870445,\n",
       "        -87.01125117, -464.15320226,  585.45414205,   66.8404385 ,\n",
       "        -39.83389775,  301.24207912,  -87.18541427,  -67.99342481,\n",
       "        411.25747661,  -96.07068464, -247.19336716, -250.09653741,\n",
       "        240.18524519,    9.91129222, -884.69137611,  386.24848523,\n",
       "        -87.01125117,  585.45414205])"
      ]
     },
     "execution_count": 150,
     "metadata": {},
     "output_type": "execute_result"
    }
   ],
   "source": [
    "lin_reg.coef_"
   ]
  },
  {
   "cell_type": "code",
   "execution_count": 151,
   "id": "56962fac",
   "metadata": {},
   "outputs": [
    {
     "data": {
      "text/plain": [
       "28116.30585695631"
      ]
     },
     "execution_count": 151,
     "metadata": {},
     "output_type": "execute_result"
    }
   ],
   "source": [
    "lin_reg.intercept_"
   ]
  },
  {
   "cell_type": "code",
   "execution_count": 152,
   "id": "b3a9fbac",
   "metadata": {},
   "outputs": [
    {
     "data": {
      "text/plain": [
       "42"
      ]
     },
     "execution_count": 152,
     "metadata": {},
     "output_type": "execute_result"
    }
   ],
   "source": [
    "len(feature_names)"
   ]
  },
  {
   "cell_type": "code",
   "execution_count": 153,
   "id": "f47d85d3",
   "metadata": {},
   "outputs": [
    {
     "data": {
      "text/plain": [
       "Item_Weight                          1.0679\n",
       "Item_Visibility                   -276.6116\n",
       "Item_MRP                            15.6019\n",
       "Outlet_Establishment_Year          -14.2204\n",
       "Item_Fat_Content_Regular            31.3766\n",
       "Item_Type_Baking Goods               8.9774\n",
       "Item_Type_Breads                    -4.0922\n",
       "Item_Type_Breakfast                 69.8844\n",
       "Item_Type_Canned                    22.6003\n",
       "Item_Type_Dairy                    -48.8434\n",
       "Item_Type_Frozen Foods              -5.4078\n",
       "Item_Type_Fruits and Vegetables     16.1736\n",
       "Item_Type_Hard Drinks               49.1353\n",
       "Item_Type_Health and Hygiene       -41.4996\n",
       "Item_Type_Household                -68.6420\n",
       "Item_Type_Meat                     -15.9121\n",
       "Item_Type_Others                    17.6071\n",
       "Item_Type_Seafood                   98.5005\n",
       "Item_Type_Snack Foods              -11.7029\n",
       "Item_Type_Soft Drinks             -117.8559\n",
       "Item_Type_Starchy Foods             31.0773\n",
       "Outlet_Identifier_OUT010          -420.5382\n",
       "Outlet_Identifier_OUT013           -67.9934\n",
       "Outlet_Identifier_OUT017           213.1787\n",
       "Outlet_Identifier_OUT018           -87.0113\n",
       "Outlet_Identifier_OUT019          -464.1532\n",
       "Outlet_Identifier_OUT027           585.4541\n",
       "Outlet_Identifier_OUT035            66.8404\n",
       "Outlet_Identifier_OUT045           -39.8339\n",
       "Outlet_Identifier_OUT046           301.2421\n",
       "Outlet_Identifier_OUT049           -87.1854\n",
       "Outlet_Size_High                   -67.9934\n",
       "Outlet_Size_Medium                 411.2575\n",
       "Outlet_Size_Small                  -96.0707\n",
       "Outlet_Size_Unknown               -247.1934\n",
       "Outlet_Location_Type_Tier 1       -250.0965\n",
       "Outlet_Location_Type_Tier 2        240.1852\n",
       "Outlet_Location_Type_Tier 3          9.9113\n",
       "Outlet_Type_Grocery Store         -884.6914\n",
       "Outlet_Type_Supermarket Type1      386.2485\n",
       "Outlet_Type_Supermarket Type2      -87.0113\n",
       "Outlet_Type_Supermarket Type3      585.4541\n",
       "dtype: float64"
      ]
     },
     "execution_count": 153,
     "metadata": {},
     "output_type": "execute_result"
    }
   ],
   "source": [
    "coef_df = pd.Series(lin_reg.coef_, index=feature_names)\n",
    "coef_df"
   ]
  },
  {
   "cell_type": "code",
   "execution_count": 154,
   "id": "ca7be1e1",
   "metadata": {},
   "outputs": [],
   "source": [
    "pd.set_option('display.float_format', lambda x: f\"{x:,.4f}\")"
   ]
  },
  {
   "cell_type": "code",
   "execution_count": 155,
   "id": "452f3f39",
   "metadata": {},
   "outputs": [
    {
     "data": {
      "text/plain": [
       "Item_Weight                          1.0679\n",
       "Item_Visibility                   -276.6116\n",
       "Item_MRP                            15.6019\n",
       "Outlet_Establishment_Year          -14.2204\n",
       "Item_Fat_Content_Regular            31.3766\n",
       "Item_Type_Baking Goods               8.9774\n",
       "Item_Type_Breads                    -4.0922\n",
       "Item_Type_Breakfast                 69.8844\n",
       "Item_Type_Canned                    22.6003\n",
       "Item_Type_Dairy                    -48.8434\n",
       "Item_Type_Frozen Foods              -5.4078\n",
       "Item_Type_Fruits and Vegetables     16.1736\n",
       "Item_Type_Hard Drinks               49.1353\n",
       "Item_Type_Health and Hygiene       -41.4996\n",
       "Item_Type_Household                -68.6420\n",
       "Item_Type_Meat                     -15.9121\n",
       "Item_Type_Others                    17.6071\n",
       "Item_Type_Seafood                   98.5005\n",
       "Item_Type_Snack Foods              -11.7029\n",
       "Item_Type_Soft Drinks             -117.8559\n",
       "Item_Type_Starchy Foods             31.0773\n",
       "Outlet_Identifier_OUT010          -420.5382\n",
       "Outlet_Identifier_OUT013           -67.9934\n",
       "Outlet_Identifier_OUT017           213.1787\n",
       "Outlet_Identifier_OUT018           -87.0113\n",
       "Outlet_Identifier_OUT019          -464.1532\n",
       "Outlet_Identifier_OUT027           585.4541\n",
       "Outlet_Identifier_OUT035            66.8404\n",
       "Outlet_Identifier_OUT045           -39.8339\n",
       "Outlet_Identifier_OUT046           301.2421\n",
       "Outlet_Identifier_OUT049           -87.1854\n",
       "Outlet_Size_High                   -67.9934\n",
       "Outlet_Size_Medium                 411.2575\n",
       "Outlet_Size_Small                  -96.0707\n",
       "Outlet_Size_Unknown               -247.1934\n",
       "Outlet_Location_Type_Tier 1       -250.0965\n",
       "Outlet_Location_Type_Tier 2        240.1852\n",
       "Outlet_Location_Type_Tier 3          9.9113\n",
       "Outlet_Type_Grocery Store         -884.6914\n",
       "Outlet_Type_Supermarket Type1      386.2485\n",
       "Outlet_Type_Supermarket Type2      -87.0113\n",
       "Outlet_Type_Supermarket Type3      585.4541\n",
       "dtype: float64"
      ]
     },
     "execution_count": 155,
     "metadata": {},
     "output_type": "execute_result"
    }
   ],
   "source": [
    "coef_df"
   ]
  },
  {
   "cell_type": "code",
   "execution_count": 156,
   "id": "46fda9ca",
   "metadata": {},
   "outputs": [],
   "source": [
    "def get_coefficients(lin_reg):\n",
    "    coefs = pd.Series(lin_reg.coef_, index=lin_reg.feature_names_in_)\n",
    "    return coefs"
   ]
  },
  {
   "cell_type": "code",
   "execution_count": 157,
   "id": "e5783812",
   "metadata": {
    "scrolled": true
   },
   "outputs": [
    {
     "data": {
      "image/png": "[encoded data removed]",
      "text/plain": [
       "<Figure size 800x600 with 1 Axes>"
      ]
     },
     "metadata": {},
     "output_type": "display_data"
    }
   ],
   "source": [
    "ax = coef_df.head(10).sort_values().plot(kind='barh',figsize=(8,6))\n",
    "ax.axvline(0,color='k')\n",
    "ax.set_title('LinearRegression Coefficients');"
   ]
  },
  {
   "cell_type": "markdown",
   "id": "cf3c3413",
   "metadata": {},
   "source": [
    "We can tell based on the top Linear Coefficients that we have positive and negative coefficients with Item Visibility being in the negative coefficients. On the opposite hand we have a positive coefficients that being Item Type Breakfast."
   ]
  },
  {
   "cell_type": "markdown",
   "id": "8769482c",
   "metadata": {},
   "source": [
    "## Feature Importance - Tree-Based Model"
   ]
  },
  {
   "cell_type": "code",
   "execution_count": 158,
   "id": "15f1f614",
   "metadata": {},
   "outputs": [],
   "source": [
    "from sklearn.ensemble import RandomForestRegressor"
   ]
  },
  {
   "cell_type": "code",
   "execution_count": 159,
   "id": "54fe2a69",
   "metadata": {},
   "outputs": [
    {
     "data": {
      "text/html": [
       "<style type=\"text/css\">\n",
       "</style>\n",
       "<table id=\"T_b8d6f\">\n",
       "  <thead>\n",
       "    <tr>\n",
       "      <th id=\"T_b8d6f_level0_col0\" class=\"col_heading level0 col0\" >Split</th>\n",
       "      <th id=\"T_b8d6f_level0_col1\" class=\"col_heading level0 col1\" >R^2</th>\n",
       "      <th id=\"T_b8d6f_level0_col2\" class=\"col_heading level0 col2\" >MAE</th>\n",
       "      <th id=\"T_b8d6f_level0_col3\" class=\"col_heading level0 col3\" >RMSE</th>\n",
       "    </tr>\n",
       "  </thead>\n",
       "  <tbody>\n",
       "    <tr>\n",
       "      <td id=\"T_b8d6f_row0_col0\" class=\"data row0 col0\" >Train</td>\n",
       "      <td id=\"T_b8d6f_row0_col1\" class=\"data row0 col1\" >0.94</td>\n",
       "      <td id=\"T_b8d6f_row0_col2\" class=\"data row0 col2\" >292.63</td>\n",
       "      <td id=\"T_b8d6f_row0_col3\" class=\"data row0 col3\" >423.76</td>\n",
       "    </tr>\n",
       "    <tr>\n",
       "      <td id=\"T_b8d6f_row1_col0\" class=\"data row1 col0\" >Test</td>\n",
       "      <td id=\"T_b8d6f_row1_col1\" class=\"data row1 col1\" >0.56</td>\n",
       "      <td id=\"T_b8d6f_row1_col2\" class=\"data row1 col2\" >814.91</td>\n",
       "      <td id=\"T_b8d6f_row1_col3\" class=\"data row1 col3\" >1,163.88</td>\n",
       "    </tr>\n",
       "  </tbody>\n",
       "</table>\n"
      ],
      "text/plain": [
       "<pandas.io.formats.style.Styler at 0x2026326b130>"
      ]
     },
     "metadata": {},
     "output_type": "display_data"
    }
   ],
   "source": [
    "rf_reg = RandomForestRegressor()\n",
    "rf_reg.fit(X_train_proc, y_train)\n",
    "evaluate_regression(rf_reg, X_train_proc, y_train, \n",
    "                    X_test_proc, y_test)"
   ]
  },
  {
   "cell_type": "code",
   "execution_count": 160,
   "id": "4e2eae4c",
   "metadata": {},
   "outputs": [
    {
     "data": {
      "text/plain": [
       "array([5.38390405e-02, 9.74500103e-02, 4.44395402e-01, 2.79576690e-02,\n",
       "       8.26281341e-03, 4.50134922e-03, 2.90891467e-03, 2.52064803e-03,\n",
       "       4.36220853e-03, 5.52244524e-03, 5.83036039e-03, 8.47066264e-03,\n",
       "       3.04718644e-03, 4.18550078e-03, 6.42471475e-03, 3.57107724e-03,\n",
       "       1.63550113e-03, 1.36273846e-03, 8.17931038e-03, 4.21177083e-03,\n",
       "       3.08992034e-03, 9.43408095e-06, 1.65114331e-03, 3.05057446e-03,\n",
       "       9.77140443e-04, 1.29114369e-05, 2.98492324e-02, 3.86850927e-03,\n",
       "       4.90585980e-03, 3.09459836e-03, 3.18195323e-03, 1.49695160e-03,\n",
       "       2.99613219e-03, 4.06950016e-03, 3.15358943e-03, 3.24501195e-03,\n",
       "       2.72497181e-03, 2.57328894e-03, 1.96758190e-01, 1.86950898e-03,\n",
       "       1.02995732e-03, 2.77522968e-02])"
      ]
     },
     "execution_count": 160,
     "metadata": {},
     "output_type": "execute_result"
    }
   ],
   "source": [
    "importances = rf_reg.feature_importances_\n",
    "importances"
   ]
  },
  {
   "cell_type": "code",
   "execution_count": 161,
   "id": "ca5cb899",
   "metadata": {},
   "outputs": [
    {
     "name": "stdout",
     "output_type": "stream",
     "text": [
      "42\n",
      "6392\n"
     ]
    },
    {
     "data": {
      "text/plain": [
       "False"
      ]
     },
     "execution_count": 161,
     "metadata": {},
     "output_type": "execute_result"
    }
   ],
   "source": [
    "print(len(rf_reg.feature_importances_))\n",
    "print(len(X_train_proc))\n",
    "len(rf_reg.feature_importances_) == len(X_train_proc)"
   ]
  },
  {
   "cell_type": "code",
   "execution_count": 162,
   "id": "30e7846b",
   "metadata": {},
   "outputs": [
    {
     "data": {
      "text/plain": [
       "Item_Weight                       0.0538\n",
       "Item_Visibility                   0.0975\n",
       "Item_MRP                          0.4444\n",
       "Outlet_Establishment_Year         0.0280\n",
       "Item_Fat_Content_Regular          0.0083\n",
       "Item_Type_Baking Goods            0.0045\n",
       "Item_Type_Breads                  0.0029\n",
       "Item_Type_Breakfast               0.0025\n",
       "Item_Type_Canned                  0.0044\n",
       "Item_Type_Dairy                   0.0055\n",
       "Item_Type_Frozen Foods            0.0058\n",
       "Item_Type_Fruits and Vegetables   0.0085\n",
       "Item_Type_Hard Drinks             0.0030\n",
       "Item_Type_Health and Hygiene      0.0042\n",
       "Item_Type_Household               0.0064\n",
       "Item_Type_Meat                    0.0036\n",
       "Item_Type_Others                  0.0016\n",
       "Item_Type_Seafood                 0.0014\n",
       "Item_Type_Snack Foods             0.0082\n",
       "Item_Type_Soft Drinks             0.0042\n",
       "Item_Type_Starchy Foods           0.0031\n",
       "Outlet_Identifier_OUT010          0.0000\n",
       "Outlet_Identifier_OUT013          0.0017\n",
       "Outlet_Identifier_OUT017          0.0031\n",
       "Outlet_Identifier_OUT018          0.0010\n",
       "Outlet_Identifier_OUT019          0.0000\n",
       "Outlet_Identifier_OUT027          0.0298\n",
       "Outlet_Identifier_OUT035          0.0039\n",
       "Outlet_Identifier_OUT045          0.0049\n",
       "Outlet_Identifier_OUT046          0.0031\n",
       "Outlet_Identifier_OUT049          0.0032\n",
       "Outlet_Size_High                  0.0015\n",
       "Outlet_Size_Medium                0.0030\n",
       "Outlet_Size_Small                 0.0041\n",
       "Outlet_Size_Unknown               0.0032\n",
       "Outlet_Location_Type_Tier 1       0.0032\n",
       "Outlet_Location_Type_Tier 2       0.0027\n",
       "Outlet_Location_Type_Tier 3       0.0026\n",
       "Outlet_Type_Grocery Store         0.1968\n",
       "Outlet_Type_Supermarket Type1     0.0019\n",
       "Outlet_Type_Supermarket Type2     0.0010\n",
       "Outlet_Type_Supermarket Type3     0.0278\n",
       "Name: Feature Importance, dtype: float64"
      ]
     },
     "execution_count": 162,
     "metadata": {},
     "output_type": "execute_result"
    }
   ],
   "source": [
    "importances = pd.Series(rf_reg.feature_importances_, index= feature_names,\n",
    "                       name='Feature Importance')\n",
    "importances"
   ]
  },
  {
   "cell_type": "code",
   "execution_count": 163,
   "id": "9806df20",
   "metadata": {},
   "outputs": [
    {
     "data": {
      "text/plain": [
       "1.0000000000000002"
      ]
     },
     "execution_count": 163,
     "metadata": {},
     "output_type": "execute_result"
    }
   ],
   "source": [
    "importances.sum()"
   ]
  },
  {
   "cell_type": "code",
   "execution_count": 164,
   "id": "1650631c",
   "metadata": {},
   "outputs": [
    {
     "data": {
      "image/png": "[encoded data removed]",
      "text/plain": [
       "<Figure size 640x480 with 1 Axes>"
      ]
     },
     "metadata": {},
     "output_type": "display_data"
    }
   ],
   "source": [
    "ax = importances.plot(kind='barh')"
   ]
  },
  {
   "cell_type": "code",
   "execution_count": 165,
   "id": "4690b7be",
   "metadata": {},
   "outputs": [
    {
     "data": {
      "text/plain": [
       "Item_MRP                          0.4444\n",
       "Outlet_Type_Grocery Store         0.1968\n",
       "Item_Visibility                   0.0975\n",
       "Item_Weight                       0.0538\n",
       "Outlet_Identifier_OUT027          0.0298\n",
       "Outlet_Establishment_Year         0.0280\n",
       "Outlet_Type_Supermarket Type3     0.0278\n",
       "Item_Type_Fruits and Vegetables   0.0085\n",
       "Item_Fat_Content_Regular          0.0083\n",
       "Item_Type_Snack Foods             0.0082\n",
       "Item_Type_Household               0.0064\n",
       "Item_Type_Frozen Foods            0.0058\n",
       "Item_Type_Dairy                   0.0055\n",
       "Outlet_Identifier_OUT045          0.0049\n",
       "Item_Type_Baking Goods            0.0045\n",
       "Item_Type_Canned                  0.0044\n",
       "Item_Type_Soft Drinks             0.0042\n",
       "Item_Type_Health and Hygiene      0.0042\n",
       "Outlet_Size_Small                 0.0041\n",
       "Outlet_Identifier_OUT035          0.0039\n",
       "Item_Type_Meat                    0.0036\n",
       "Outlet_Location_Type_Tier 1       0.0032\n",
       "Outlet_Identifier_OUT049          0.0032\n",
       "Outlet_Size_Unknown               0.0032\n",
       "Outlet_Identifier_OUT046          0.0031\n",
       "Item_Type_Starchy Foods           0.0031\n",
       "Outlet_Identifier_OUT017          0.0031\n",
       "Item_Type_Hard Drinks             0.0030\n",
       "Outlet_Size_Medium                0.0030\n",
       "Item_Type_Breads                  0.0029\n",
       "Outlet_Location_Type_Tier 2       0.0027\n",
       "Outlet_Location_Type_Tier 3       0.0026\n",
       "Item_Type_Breakfast               0.0025\n",
       "Outlet_Type_Supermarket Type1     0.0019\n",
       "Outlet_Identifier_OUT013          0.0017\n",
       "Item_Type_Others                  0.0016\n",
       "Outlet_Size_High                  0.0015\n",
       "Item_Type_Seafood                 0.0014\n",
       "Outlet_Type_Supermarket Type2     0.0010\n",
       "Outlet_Identifier_OUT018          0.0010\n",
       "Outlet_Identifier_OUT019          0.0000\n",
       "Outlet_Identifier_OUT010          0.0000\n",
       "Name: Feature Importance, dtype: float64"
      ]
     },
     "execution_count": 165,
     "metadata": {},
     "output_type": "execute_result"
    }
   ],
   "source": [
    "sorted_importance = importances.sort_values(ascending=False)\n",
    "sorted_importance"
   ]
  },
  {
   "cell_type": "code",
   "execution_count": 166,
   "id": "03906e5d",
   "metadata": {},
   "outputs": [
    {
     "data": {
      "image/png": "[encoded data removed]",
      "text/plain": [
       "<Figure size 800x600 with 1 Axes>"
      ]
     },
     "metadata": {},
     "output_type": "display_data"
    }
   ],
   "source": [
    "ax = sorted_importance.head(10).plot(kind='barh',\n",
    "                                   figsize=(8,6))\n",
    "ax.set(xlabel='Importance',\n",
    "        ylabel='Feature Names',\n",
    "        title='Top 10 Most Important Features');"
   ]
  },
  {
   "cell_type": "markdown",
   "id": "52bb1f49",
   "metadata": {},
   "source": [
    "We have narrowed down our Important Values to the top 10. Based on the figure above, we can see that Item_MRP is the most important feature. \n",
    "In simpler terms, for every increase we have in an item's 'Maximum retail price' the model predicts an increase in item sales thus driving the correlation between the two. "
   ]
  },
  {
   "cell_type": "code",
   "execution_count": 167,
   "id": "36cdfe18",
   "metadata": {},
   "outputs": [],
   "source": [
    "fig_ax = ax.get_figure()"
   ]
  },
  {
   "cell_type": "markdown",
   "id": "cd9e5a77",
   "metadata": {},
   "source": [
    "### Joblib"
   ]
  },
  {
   "cell_type": "code",
   "execution_count": 168,
   "id": "c201b4c4",
   "metadata": {},
   "outputs": [
    {
     "data": {
      "text/html": [
       "<div>\n",
       "<style scoped>\n",
       "    .dataframe tbody tr th:only-of-type {\n",
       "        vertical-align: middle;\n",
       "    }\n",
       "\n",
       "    .dataframe tbody tr th {\n",
       "        vertical-align: top;\n",
       "    }\n",
       "\n",
       "    .dataframe thead th {\n",
       "        text-align: right;\n",
       "    }\n",
       "</style>\n",
       "<table border=\"1\" class=\"dataframe\">\n",
       "  <thead>\n",
       "    <tr style=\"text-align: right;\">\n",
       "      <th></th>\n",
       "      <th>Item_Weight</th>\n",
       "      <th>Item_Fat_Content</th>\n",
       "      <th>Item_Visibility</th>\n",
       "      <th>Item_Type</th>\n",
       "      <th>Item_MRP</th>\n",
       "      <th>Outlet_Identifier</th>\n",
       "      <th>Outlet_Establishment_Year</th>\n",
       "      <th>Outlet_Size</th>\n",
       "      <th>Outlet_Location_Type</th>\n",
       "      <th>Outlet_Type</th>\n",
       "    </tr>\n",
       "  </thead>\n",
       "  <tbody>\n",
       "    <tr>\n",
       "      <th>8269</th>\n",
       "      <td>7.2200</td>\n",
       "      <td>Regular</td>\n",
       "      <td>0.0641</td>\n",
       "      <td>Baking Goods</td>\n",
       "      <td>61.2510</td>\n",
       "      <td>OUT010</td>\n",
       "      <td>1998</td>\n",
       "      <td>Unknown</td>\n",
       "      <td>Tier 3</td>\n",
       "      <td>Grocery Store</td>\n",
       "    </tr>\n",
       "    <tr>\n",
       "      <th>7604</th>\n",
       "      <td>6.1350</td>\n",
       "      <td>Low Fat</td>\n",
       "      <td>0.0793</td>\n",
       "      <td>Soft Drinks</td>\n",
       "      <td>111.2860</td>\n",
       "      <td>OUT018</td>\n",
       "      <td>2009</td>\n",
       "      <td>Medium</td>\n",
       "      <td>Tier 3</td>\n",
       "      <td>Supermarket Type2</td>\n",
       "    </tr>\n",
       "    <tr>\n",
       "      <th>2762</th>\n",
       "      <td>12.1500</td>\n",
       "      <td>Low Fat</td>\n",
       "      <td>0.0286</td>\n",
       "      <td>Household</td>\n",
       "      <td>151.0708</td>\n",
       "      <td>OUT035</td>\n",
       "      <td>2004</td>\n",
       "      <td>Small</td>\n",
       "      <td>Tier 2</td>\n",
       "      <td>Supermarket Type1</td>\n",
       "    </tr>\n",
       "    <tr>\n",
       "      <th>6464</th>\n",
       "      <td>5.9450</td>\n",
       "      <td>Low Fat</td>\n",
       "      <td>0.0930</td>\n",
       "      <td>Household</td>\n",
       "      <td>127.8652</td>\n",
       "      <td>OUT035</td>\n",
       "      <td>2004</td>\n",
       "      <td>Small</td>\n",
       "      <td>Tier 2</td>\n",
       "      <td>Supermarket Type1</td>\n",
       "    </tr>\n",
       "    <tr>\n",
       "      <th>4707</th>\n",
       "      <td>18.2000</td>\n",
       "      <td>Regular</td>\n",
       "      <td>0.0663</td>\n",
       "      <td>Fruits and Vegetables</td>\n",
       "      <td>247.2092</td>\n",
       "      <td>OUT035</td>\n",
       "      <td>2004</td>\n",
       "      <td>Small</td>\n",
       "      <td>Tier 2</td>\n",
       "      <td>Supermarket Type1</td>\n",
       "    </tr>\n",
       "  </tbody>\n",
       "</table>\n",
       "</div>"
      ],
      "text/plain": [
       "      Item_Weight Item_Fat_Content  Item_Visibility              Item_Type  \\\n",
       "8269       7.2200          Regular           0.0641           Baking Goods   \n",
       "7604       6.1350          Low Fat           0.0793            Soft Drinks   \n",
       "2762      12.1500          Low Fat           0.0286              Household   \n",
       "6464       5.9450          Low Fat           0.0930              Household   \n",
       "4707      18.2000          Regular           0.0663  Fruits and Vegetables   \n",
       "\n",
       "      Item_MRP Outlet_Identifier  Outlet_Establishment_Year Outlet_Size  \\\n",
       "8269   61.2510            OUT010                       1998     Unknown   \n",
       "7604  111.2860            OUT018                       2009      Medium   \n",
       "2762  151.0708            OUT035                       2004       Small   \n",
       "6464  127.8652            OUT035                       2004       Small   \n",
       "4707  247.2092            OUT035                       2004       Small   \n",
       "\n",
       "     Outlet_Location_Type        Outlet_Type  \n",
       "8269               Tier 3      Grocery Store  \n",
       "7604               Tier 3  Supermarket Type2  \n",
       "2762               Tier 2  Supermarket Type1  \n",
       "6464               Tier 2  Supermarket Type1  \n",
       "4707               Tier 2  Supermarket Type1  "
      ]
     },
     "execution_count": 168,
     "metadata": {},
     "output_type": "execute_result"
    }
   ],
   "source": [
    "X_train.head()"
   ]
  },
  {
   "cell_type": "code",
   "execution_count": 169,
   "id": "3a1a7c5e",
   "metadata": {},
   "outputs": [],
   "source": [
    "import joblib, os"
   ]
  },
  {
   "cell_type": "code",
   "execution_count": 170,
   "id": "3863ea4f",
   "metadata": {},
   "outputs": [],
   "source": [
    "to_save = {'X_train': X_train,\n",
    "          'X_test':X_test,\n",
    "          'y_train':y_train,\n",
    "          'y_test':y_test,\n",
    "          'preprocessor':preprocessor,\n",
    "          'RandomForestRegressor':rf_reg,\n",
    "          'LinearRegression':lin_reg,\n",
    "          'preprocessor':preprocessor}"
   ]
  },
  {
   "cell_type": "code",
   "execution_count": 171,
   "id": "d3dadcd9",
   "metadata": {},
   "outputs": [],
   "source": [
    "folder = '../Models/'\n",
    "filename = 'project1-revisited-importance.joblib'\n",
    "os.makedirs(folder, exist_ok=True)"
   ]
  },
  {
   "cell_type": "code",
   "execution_count": 172,
   "id": "0fb72d5e",
   "metadata": {},
   "outputs": [
    {
     "data": {
      "text/plain": [
       "['../Models/project1-revisited-importance.joblib']"
      ]
     },
     "execution_count": 172,
     "metadata": {},
     "output_type": "execute_result"
    }
   ],
   "source": [
    "joblib.dump(to_save, folder + filename)"
   ]
  }
 ],
 "metadata": {
  "kernelspec": {
   "display_name": "Python 3 (ipykernel)",
   "language": "python",
   "name": "python3"
  },
  "language_info": {
   "codemirror_mode": {
    "name": "ipython",
    "version": 3
   },
   "file_extension": ".py",
   "mimetype": "text/x-python",
   "name": "python",
   "nbconvert_exporter": "python",
   "pygments_lexer": "ipython3",
   "version": "3.9.15"
  },
  "toc": {
   "base_numbering": 1,
   "nav_menu": {},
   "number_sections": false,
   "sideBar": true,
   "skip_h1_title": false,
   "title_cell": "Table of Contents",
   "title_sidebar": "Contents",
   "toc_cell": false,
   "toc_position": {},
   "toc_section_display": true,
   "toc_window_display": false
  }
 },
 "nbformat": 4,
 "nbformat_minor": 5
}
