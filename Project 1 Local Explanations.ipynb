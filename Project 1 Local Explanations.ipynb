{
 "cells": [
  {
   "cell_type": "markdown",
   "id": "39bc0056",
   "metadata": {},
   "source": [
    "# Part 3 - Local Explanations"
   ]
  },
  {
   "cell_type": "markdown",
   "id": "4173e7c8",
   "metadata": {},
   "source": [
    "Continue working in your model explanation notebook from the previous core assignment. Add a new \"Local Explanations\" header at the bottom and continue your work:\n",
    "\n",
    " - Select at least 2 example rows based on the insights gained from your previous core assignments this week.\n",
    " - Explain why you selected the examples that you did.\n",
    "   - If you're having trouble thinking of which type of examples to select, try selecting a store that had low sales ( one of the lowest values for your target) and one with high sales (the highest values for your target).\n",
    "\n",
    "- For each example, produce :\n",
    "  - A Lime tabular explanation\n",
    "    - Interpret what features most heavily influenced the predictions, according to LIME.\n",
    "    - Save your figure as a .png file inside your repository (you will need this for the final piece of this assignment - Update Your README). Note: You will need to take a screenshot to save the lime explanation.\n",
    "\n",
    "  - An individual Force Plot\n",
    "     - Interpret what features most heavily influenced the predictions, according to SHAP.\n",
    "     - Save your figure as a .png file inside your repository (you will need this for the final piece of this assignment - Update Your README). Note: You will need to take a screenshot to save the individual force plot."
   ]
  },
  {
   "cell_type": "markdown",
   "id": "d32e68f0",
   "metadata": {},
   "source": [
    "#### Update your README.\n",
    "\n",
    "- Add your explanation for why you selected the individual examples that you visualized.\n",
    "- For each example (need at least 2 examples)\n",
    "  - A Lime tabular explanation\n",
    "    - Your corresponding interpretation\n",
    "  - A sharp force plot\n",
    "    - Your corresponding interpretation."
   ]
  },
  {
   "cell_type": "markdown",
   "id": "fb0a5add",
   "metadata": {},
   "source": [
    "---"
   ]
  },
  {
   "cell_type": "code",
   "execution_count": null,
   "id": "2558bc39",
   "metadata": {},
   "outputs": [],
   "source": []
  },
  {
   "cell_type": "code",
   "execution_count": null,
   "id": "0598de55",
   "metadata": {},
   "outputs": [],
   "source": []
  },
  {
   "cell_type": "code",
   "execution_count": null,
   "id": "df86aa45",
   "metadata": {},
   "outputs": [],
   "source": []
  },
  {
   "cell_type": "code",
   "execution_count": null,
   "id": "80cda54a",
   "metadata": {},
   "outputs": [],
   "source": []
  },
  {
   "cell_type": "code",
   "execution_count": null,
   "id": "20d93476",
   "metadata": {},
   "outputs": [],
   "source": []
  },
  {
   "cell_type": "code",
   "execution_count": null,
   "id": "816b3ce3",
   "metadata": {},
   "outputs": [],
   "source": []
  },
  {
   "cell_type": "code",
   "execution_count": null,
   "id": "311a9a31",
   "metadata": {},
   "outputs": [],
   "source": []
  },
  {
   "cell_type": "code",
   "execution_count": null,
   "id": "74477141",
   "metadata": {},
   "outputs": [],
   "source": []
  },
  {
   "cell_type": "code",
   "execution_count": null,
   "id": "1ecf97f5",
   "metadata": {},
   "outputs": [],
   "source": []
  },
  {
   "cell_type": "code",
   "execution_count": null,
   "id": "87b1afc6",
   "metadata": {},
   "outputs": [],
   "source": []
  },
  {
   "cell_type": "code",
   "execution_count": null,
   "id": "69832440",
   "metadata": {},
   "outputs": [],
   "source": []
  },
  {
   "cell_type": "code",
   "execution_count": null,
   "id": "b96c1b8c",
   "metadata": {},
   "outputs": [],
   "source": []
  },
  {
   "cell_type": "code",
   "execution_count": null,
   "id": "907d9053",
   "metadata": {},
   "outputs": [],
   "source": []
  },
  {
   "cell_type": "code",
   "execution_count": null,
   "id": "fb2d2e44",
   "metadata": {},
   "outputs": [],
   "source": []
  }
 ],
 "metadata": {
  "kernelspec": {
   "display_name": "Python 3 (ipykernel)",
   "language": "python",
   "name": "python3"
  },
  "language_info": {
   "codemirror_mode": {
    "name": "ipython",
    "version": 3
   },
   "file_extension": ".py",
   "mimetype": "text/x-python",
   "name": "python",
   "nbconvert_exporter": "python",
   "pygments_lexer": "ipython3",
   "version": "3.9.15"
  },
  "toc": {
   "base_numbering": 1,
   "nav_menu": {},
   "number_sections": false,
   "sideBar": true,
   "skip_h1_title": false,
   "title_cell": "Table of Contents",
   "title_sidebar": "Contents",
   "toc_cell": false,
   "toc_position": {},
   "toc_section_display": true,
   "toc_window_display": false
  }
 },
 "nbformat": 4,
 "nbformat_minor": 5
}
