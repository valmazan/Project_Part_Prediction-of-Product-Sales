{
 "cells": [
  {
   "cell_type": "markdown",
   "id": "6f58cdd4",
   "metadata": {},
   "source": [
    "# Project 1 Revisited - Part 2: Global Explanations\n"
   ]
  },
  {
   "cell_type": "markdown",
   "id": "8d8f19b6",
   "metadata": {},
   "source": [
    "#### Project 1 Revisited - Part 2: Global Explanations\n",
    "\n",
    "- Create a new notebook for this assignment in your project 1 repository. Name the notebook \"Explaining Models with Shap.ipynb\"\n",
    "- In your notebook, load the contents of your \"best-models.joblib\" file into a variable called \"loaded_joblib.\"\n",
    "- Save each object from the loaded_joblib dictionary as a separate variable in your notebook. (e.g. \"X_train = loaded_joblib['X_train'])\n"
   ]
  },
  {
   "cell_type": "markdown",
   "id": "316b7e7d",
   "metadata": {},
   "source": [
    "#### Explain your tree-based model with shap:\n",
    " "
   ]
  },
  {
   "cell_type": "markdown",
   "id": "6318e0db",
   "metadata": {},
   "source": [
    "- Create an X_shap and y_shap variable from your training data (use shap.sample as needed).\n",
    "- Create a model explainer,\n",
    "- Calculate the shap values for your model.\n",
    "- Create a summary plot - with plot_type='bar':\n",
    "  - In a Markdown cell below, display your saved feature importance image (that you used in your README) and compare the most important features according to SHAP vs. your original feature importances.\n",
    "   - Are they the same features in both? If not, what's different?\n",
    "  - Save your bar summary plot figure as a .png file inside your repository (you will need this for the final piece of this assignment - Update Your README).\n",
    "- Create a second summary plot - with plot_type='dot'\n",
    "  - In a markdown cell, interpret the top 3 most important features and how they influence your model's predictions.\n",
    "  - Save your figure as a .png file inside your repository (you will need this for the final piece of this assignment - Update Your README).\n",
    "\n",
    "#### Update your README.\n",
    "\n",
    "- Insert your exported figures and corresponding interpretations from above into your README file. You should have:\n",
    "  - a summary plot - bar version\n",
    "    - Your comparison of most important features found by shap vs feature importance.\n",
    "  - a summary plot - dot version\n",
    "    - Your interpretation of the top 3 most important features and how they influence your model's predictions."
   ]
  },
  {
   "cell_type": "markdown",
   "id": "164eaba2",
   "metadata": {},
   "source": [
    "---"
   ]
  },
  {
   "cell_type": "code",
   "execution_count": null,
   "id": "6ff227ea",
   "metadata": {},
   "outputs": [],
   "source": []
  },
  {
   "cell_type": "code",
   "execution_count": null,
   "id": "339e2689",
   "metadata": {},
   "outputs": [],
   "source": []
  },
  {
   "cell_type": "code",
   "execution_count": null,
   "id": "50788b7a",
   "metadata": {},
   "outputs": [],
   "source": []
  },
  {
   "cell_type": "code",
   "execution_count": null,
   "id": "744a998d",
   "metadata": {},
   "outputs": [],
   "source": []
  },
  {
   "cell_type": "code",
   "execution_count": null,
   "id": "f626e7f4",
   "metadata": {},
   "outputs": [],
   "source": []
  },
  {
   "cell_type": "code",
   "execution_count": null,
   "id": "3558ebce",
   "metadata": {},
   "outputs": [],
   "source": []
  },
  {
   "cell_type": "code",
   "execution_count": null,
   "id": "fa593143",
   "metadata": {},
   "outputs": [],
   "source": []
  },
  {
   "cell_type": "code",
   "execution_count": null,
   "id": "f5913f3a",
   "metadata": {},
   "outputs": [],
   "source": []
  },
  {
   "cell_type": "code",
   "execution_count": null,
   "id": "a96db180",
   "metadata": {},
   "outputs": [],
   "source": []
  },
  {
   "cell_type": "code",
   "execution_count": null,
   "id": "0c9a1f20",
   "metadata": {},
   "outputs": [],
   "source": []
  },
  {
   "cell_type": "code",
   "execution_count": null,
   "id": "8dc9dcf3",
   "metadata": {},
   "outputs": [],
   "source": []
  },
  {
   "cell_type": "code",
   "execution_count": null,
   "id": "8866900b",
   "metadata": {},
   "outputs": [],
   "source": []
  },
  {
   "cell_type": "code",
   "execution_count": null,
   "id": "18fcd3f6",
   "metadata": {},
   "outputs": [],
   "source": []
  },
  {
   "cell_type": "code",
   "execution_count": null,
   "id": "a99b5134",
   "metadata": {},
   "outputs": [],
   "source": []
  },
  {
   "cell_type": "code",
   "execution_count": null,
   "id": "d0bed4f4",
   "metadata": {},
   "outputs": [],
   "source": []
  },
  {
   "cell_type": "code",
   "execution_count": null,
   "id": "bb0a7839",
   "metadata": {},
   "outputs": [],
   "source": []
  },
  {
   "cell_type": "code",
   "execution_count": null,
   "id": "0ffeb869",
   "metadata": {},
   "outputs": [],
   "source": []
  },
  {
   "cell_type": "code",
   "execution_count": null,
   "id": "d7383ffb",
   "metadata": {},
   "outputs": [],
   "source": []
  }
 ],
 "metadata": {
  "kernelspec": {
   "display_name": "Python 3 (ipykernel)",
   "language": "python",
   "name": "python3"
  },
  "language_info": {
   "codemirror_mode": {
    "name": "ipython",
    "version": 3
   },
   "file_extension": ".py",
   "mimetype": "text/x-python",
   "name": "python",
   "nbconvert_exporter": "python",
   "pygments_lexer": "ipython3",
   "version": "3.9.15"
  },
  "toc": {
   "base_numbering": 1,
   "nav_menu": {},
   "number_sections": false,
   "sideBar": true,
   "skip_h1_title": false,
   "title_cell": "Table of Contents",
   "title_sidebar": "Contents",
   "toc_cell": false,
   "toc_position": {},
   "toc_section_display": true,
   "toc_window_display": false
  }
 },
 "nbformat": 4,
 "nbformat_minor": 5
}
