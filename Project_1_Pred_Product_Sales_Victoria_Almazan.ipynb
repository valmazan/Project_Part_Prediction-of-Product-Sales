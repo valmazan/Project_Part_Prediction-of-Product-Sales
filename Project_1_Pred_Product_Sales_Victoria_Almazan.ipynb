{
  "nbformat": 4,
  "nbformat_minor": 0,
  "metadata": {
    "colab": {
      "provenance": [],
      "authorship_tag": "ABX9TyPVJOmhy1MZAc4bh4a+++/L",
      "include_colab_link": true
    },
    "kernelspec": {
      "name": "python3",
      "display_name": "Python 3"
    },
    "language_info": {
      "name": "python"
    }
  },
  "cells": [
    {
      "cell_type": "markdown",
      "metadata": {
        "id": "view-in-github",
        "colab_type": "text"
      },
      "source": [
        "<a href=\"https://colab.research.google.com/github/valmazan/Project_Part_Prediction-of-Product-Sales/blob/main/Project_1_Pred_Product_Sales_Victoria_Almazan.ipynb\" target=\"_parent\"><img src=\"https://colab.research.google.com/assets/colab-badge.svg\" alt=\"Open In Colab\"/></a>"
      ]
    },
    {
      "cell_type": "markdown",
      "source": [
        "## Prediction of Product Sales ##\n",
        "\n",
        "Victoria Almazan\n",
        "\n",
        "### Project Overview\n",
        "\n",
        "#Parts 1\n",
        "\n",
        "This is an overview of the steps you will need to complete for part one of the project. There are more detailed instructions for each section following the overview.\n",
        "\n",
        "1) Create a GitHub Account\n",
        "\n",
        "2) Set up a GitHub repository that will house your first portfolio project.\n",
        "\n",
        "3) Add Markdown cells with your name and section headers to the notebook.\n",
        "\n",
        "4) Add the Google Colab Notebook to your GitHub repository.\n",
        "\n",
        "5) Submit the link to your GitHub repo!\n",
        "\n",
        "#Part 2\n",
        "\n",
        "We will continue to work off of the GitHub repository you created last week for your first portfolio project. The goal of your portfolio projects are to have items to show potential employers that demonstrate your data science skills and competencies.\n",
        "\n",
        "For Part 2, your task is to use Pandas to load in the data and start exploring and cleaning it.  As data scientists, about 80% of our time is spent on data preparation - so this is a very important step!\n",
        "\n",
        "* Download the data using this link: download the data. (Note: Original data \n",
        "source).\n",
        "* Insert code below the heading \"Loading Data\"\n",
        " * Use Pandas to read the sales prediction data set into Google Colab.\n",
        " * Use df.info() and df.head() methods to preview the first rows of your data and a summary of your DataFrame's columns.\n",
        "* Insert code below the heading \"Data Cleaning\"\n",
        " * Explore the data - what do you need to do to clean this data? Clean it!\n",
        " * Be sure to address each of the following tasks:\n",
        " \n",
        "1) How many rows and columns?\n",
        "\n",
        "2) What are the datatypes of each variable?\n",
        "\n",
        "3) Are there duplicates? If so, drop any duplicates.\n",
        "\n",
        "4) Identify missing values.\n",
        "\n",
        "5) Decide on how to address the missing values and do it! (This requires your judgement, so explain your choice).\n",
        "\n",
        "6) Confirm that there are no missing values after addressing them.\n",
        "\n",
        "7) Find and fix any inconsistent categories of data (example: fix cat, Cat, and cats so that they are consistent).\n",
        "\n",
        "8) For any numerical columns, obtain the summary statistics of each (min, max, mean).\n",
        "\n",
        "\n",
        "### Load and Inspect Data\n",
        "\n",
        "\n",
        "> \n",
        "\n",
        "\n",
        "### Clean Data \n",
        "\n",
        "\n",
        "> \n",
        "\n",
        "\n",
        "### Exploratory Data Analysis \n",
        "\n",
        "> \n",
        "\n",
        "### Exploratory Data Anaysis\n",
        "\n",
        "\n",
        "> \n",
        "\n"
      ],
      "metadata": {
        "id": "lziYq3MGkqh_"
      }
    }
  ]
}