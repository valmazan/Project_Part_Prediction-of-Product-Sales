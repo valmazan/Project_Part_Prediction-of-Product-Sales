{
  "nbformat": 4,
  "nbformat_minor": 0,
  "metadata": {
    "colab": {
      "provenance": []
    },
    "kernelspec": {
      "name": "python3",
      "display_name": "Python 3"
    },
    "language_info": {
      "name": "python"
    }
  },
  "cells": [
    {
      "cell_type": "markdown",
      "source": [
        "## Prediction of Product Sales ##\n",
        "\n",
        "Victoria Almazan\n",
        "\n",
        "### Project Overview\n",
        "\n",
        "\n",
        "\n",
        "### Load and Inspect Data\n",
        "\n",
        "\n",
        "> \n",
        "\n",
        "\n",
        "### Clean Data \n",
        "\n",
        "\n",
        "> \n",
        "\n",
        "\n",
        "### Exploratory Data Analysis \n",
        "\n",
        "> \n",
        "\n",
        "### Exploratory Data Anaysis\n",
        "\n",
        "\n",
        "> \n",
        "\n"
      ],
      "metadata": {
        "id": "lziYq3MGkqh_"
      }
    }
  ]
}